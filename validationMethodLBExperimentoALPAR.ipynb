{
  "cells": [
    {
      "cell_type": "code",
      "execution_count": null,
      "metadata": {
        "colab": {
          "base_uri": "https://localhost:8080/"
        },
        "id": "2bufZhxNfqu5",
        "outputId": "f3625475-6aab-4b0f-80ae-4847e0b0a2ec"
      },
      "outputs": [
        {
          "output_type": "stream",
          "name": "stdout",
          "text": [
            "Looking in indexes: https://pypi.org/simple, https://us-python.pkg.dev/colab-wheels/public/simple/\n",
            "Collecting session-info\n",
            "  Downloading session_info-1.0.0.tar.gz (24 kB)\n",
            "  Preparing metadata (setup.py) ... \u001b[?25l\u001b[?25hdone\n",
            "Collecting stdlib_list\n",
            "  Downloading stdlib_list-0.8.0-py3-none-any.whl (63 kB)\n",
            "\u001b[2K     \u001b[90m━━━━━━━━━━━━━━━━━━━━━━━━━━━━━━━━━━━━━━━━\u001b[0m \u001b[32m63.5/63.5 KB\u001b[0m \u001b[31m8.2 MB/s\u001b[0m eta \u001b[36m0:00:00\u001b[0m\n",
            "\u001b[?25hBuilding wheels for collected packages: session-info\n",
            "  Building wheel for session-info (setup.py) ... \u001b[?25l\u001b[?25hdone\n",
            "  Created wheel for session-info: filename=session_info-1.0.0-py3-none-any.whl size=8046 sha256=e58dc776dc409fbf8561946e14b5d525b92305740b3b4d543b8682bbcfcf6920\n",
            "  Stored in directory: /root/.cache/pip/wheels/5c/1b/4d/111d73980c5c6a8e5e5905a19eccc34296cb359cac54c6c5b9\n",
            "Successfully built session-info\n",
            "Installing collected packages: stdlib_list, session-info\n",
            "Successfully installed session-info-1.0.0 stdlib_list-0.8.0\n"
          ]
        }
      ],
      "source": [
        "!pip install session-info"
      ]
    },
    {
      "cell_type": "code",
      "execution_count": null,
      "metadata": {
        "colab": {
          "base_uri": "https://localhost:8080/"
        },
        "id": "t1Qf15wGfj6y",
        "outputId": "6113d832-acf1-408e-d940-809b64e27684"
      },
      "outputs": [
        {
          "output_type": "stream",
          "name": "stdout",
          "text": [
            "Looking in indexes: https://pypi.org/simple, https://us-python.pkg.dev/colab-wheels/public/simple/\n",
            "Collecting tensorflow==2.9.0\n",
            "  Downloading tensorflow-2.9.0-cp38-cp38-manylinux_2_17_x86_64.manylinux2014_x86_64.whl (511.7 MB)\n",
            "\u001b[2K     \u001b[90m━━━━━━━━━━━━━━━━━━━━━━━━━━━━━━━━━━━━━━━\u001b[0m \u001b[32m511.7/511.7 MB\u001b[0m \u001b[31m3.0 MB/s\u001b[0m eta \u001b[36m0:00:00\u001b[0m\n",
            "\u001b[?25hRequirement already satisfied: astunparse>=1.6.0 in /usr/local/lib/python3.8/dist-packages (from tensorflow==2.9.0) (1.6.3)\n",
            "Collecting tensorflow-estimator<2.10.0,>=2.9.0rc0\n",
            "  Downloading tensorflow_estimator-2.9.0-py2.py3-none-any.whl (438 kB)\n",
            "\u001b[2K     \u001b[90m━━━━━━━━━━━━━━━━━━━━━━━━━━━━━━━━━━━━━━\u001b[0m \u001b[32m438.7/438.7 KB\u001b[0m \u001b[31m36.5 MB/s\u001b[0m eta \u001b[36m0:00:00\u001b[0m\n",
            "\u001b[?25hRequirement already satisfied: libclang>=13.0.0 in /usr/local/lib/python3.8/dist-packages (from tensorflow==2.9.0) (15.0.6.1)\n",
            "Requirement already satisfied: absl-py>=1.0.0 in /usr/local/lib/python3.8/dist-packages (from tensorflow==2.9.0) (1.4.0)\n",
            "Requirement already satisfied: opt-einsum>=2.3.2 in /usr/local/lib/python3.8/dist-packages (from tensorflow==2.9.0) (3.3.0)\n",
            "Requirement already satisfied: gast<=0.4.0,>=0.2.1 in /usr/local/lib/python3.8/dist-packages (from tensorflow==2.9.0) (0.4.0)\n",
            "Collecting keras-preprocessing>=1.1.1\n",
            "  Downloading Keras_Preprocessing-1.1.2-py2.py3-none-any.whl (42 kB)\n",
            "\u001b[2K     \u001b[90m━━━━━━━━━━━━━━━━━━━━━━━━━━━━━━━━━━━━━━━━\u001b[0m \u001b[32m42.6/42.6 KB\u001b[0m \u001b[31m3.6 MB/s\u001b[0m eta \u001b[36m0:00:00\u001b[0m\n",
            "\u001b[?25hRequirement already satisfied: grpcio<2.0,>=1.24.3 in /usr/local/lib/python3.8/dist-packages (from tensorflow==2.9.0) (1.51.1)\n",
            "Collecting flatbuffers<2,>=1.12\n",
            "  Downloading flatbuffers-1.12-py2.py3-none-any.whl (15 kB)\n",
            "Collecting keras<2.10.0,>=2.9.0rc0\n",
            "  Downloading keras-2.9.0-py2.py3-none-any.whl (1.6 MB)\n",
            "\u001b[2K     \u001b[90m━━━━━━━━━━━━━━━━━━━━━━━━━━━━━━━━━━━━━━━━\u001b[0m \u001b[32m1.6/1.6 MB\u001b[0m \u001b[31m31.4 MB/s\u001b[0m eta \u001b[36m0:00:00\u001b[0m\n",
            "\u001b[?25hRequirement already satisfied: setuptools in /usr/local/lib/python3.8/dist-packages (from tensorflow==2.9.0) (57.4.0)\n",
            "Requirement already satisfied: numpy>=1.20 in /usr/local/lib/python3.8/dist-packages (from tensorflow==2.9.0) (1.21.6)\n",
            "Requirement already satisfied: typing-extensions>=3.6.6 in /usr/local/lib/python3.8/dist-packages (from tensorflow==2.9.0) (4.5.0)\n",
            "Requirement already satisfied: protobuf>=3.9.2 in /usr/local/lib/python3.8/dist-packages (from tensorflow==2.9.0) (3.19.6)\n",
            "Requirement already satisfied: packaging in /usr/local/lib/python3.8/dist-packages (from tensorflow==2.9.0) (23.0)\n",
            "Requirement already satisfied: termcolor>=1.1.0 in /usr/local/lib/python3.8/dist-packages (from tensorflow==2.9.0) (2.2.0)\n",
            "Collecting tensorboard<2.10,>=2.9\n",
            "  Downloading tensorboard-2.9.1-py3-none-any.whl (5.8 MB)\n",
            "\u001b[2K     \u001b[90m━━━━━━━━━━━━━━━━━━━━━━━━━━━━━━━━━━━━━━━━\u001b[0m \u001b[32m5.8/5.8 MB\u001b[0m \u001b[31m68.3 MB/s\u001b[0m eta \u001b[36m0:00:00\u001b[0m\n",
            "\u001b[?25hRequirement already satisfied: google-pasta>=0.1.1 in /usr/local/lib/python3.8/dist-packages (from tensorflow==2.9.0) (0.2.0)\n",
            "Requirement already satisfied: six>=1.12.0 in /usr/local/lib/python3.8/dist-packages (from tensorflow==2.9.0) (1.15.0)\n",
            "Requirement already satisfied: wrapt>=1.11.0 in /usr/local/lib/python3.8/dist-packages (from tensorflow==2.9.0) (1.14.1)\n",
            "Requirement already satisfied: tensorflow-io-gcs-filesystem>=0.23.1 in /usr/local/lib/python3.8/dist-packages (from tensorflow==2.9.0) (0.30.0)\n",
            "Requirement already satisfied: h5py>=2.9.0 in /usr/local/lib/python3.8/dist-packages (from tensorflow==2.9.0) (3.1.0)\n",
            "Requirement already satisfied: wheel<1.0,>=0.23.0 in /usr/local/lib/python3.8/dist-packages (from astunparse>=1.6.0->tensorflow==2.9.0) (0.38.4)\n",
            "Requirement already satisfied: markdown>=2.6.8 in /usr/local/lib/python3.8/dist-packages (from tensorboard<2.10,>=2.9->tensorflow==2.9.0) (3.4.1)\n",
            "Requirement already satisfied: requests<3,>=2.21.0 in /usr/local/lib/python3.8/dist-packages (from tensorboard<2.10,>=2.9->tensorflow==2.9.0) (2.25.1)\n",
            "Requirement already satisfied: werkzeug>=1.0.1 in /usr/local/lib/python3.8/dist-packages (from tensorboard<2.10,>=2.9->tensorflow==2.9.0) (1.0.1)\n",
            "Requirement already satisfied: google-auth-oauthlib<0.5,>=0.4.1 in /usr/local/lib/python3.8/dist-packages (from tensorboard<2.10,>=2.9->tensorflow==2.9.0) (0.4.6)\n",
            "Requirement already satisfied: tensorboard-plugin-wit>=1.6.0 in /usr/local/lib/python3.8/dist-packages (from tensorboard<2.10,>=2.9->tensorflow==2.9.0) (1.8.1)\n",
            "Requirement already satisfied: tensorboard-data-server<0.7.0,>=0.6.0 in /usr/local/lib/python3.8/dist-packages (from tensorboard<2.10,>=2.9->tensorflow==2.9.0) (0.6.1)\n",
            "Requirement already satisfied: google-auth<3,>=1.6.3 in /usr/local/lib/python3.8/dist-packages (from tensorboard<2.10,>=2.9->tensorflow==2.9.0) (2.16.0)\n",
            "Requirement already satisfied: cachetools<6.0,>=2.0.0 in /usr/local/lib/python3.8/dist-packages (from google-auth<3,>=1.6.3->tensorboard<2.10,>=2.9->tensorflow==2.9.0) (5.3.0)\n",
            "Requirement already satisfied: rsa<5,>=3.1.4 in /usr/local/lib/python3.8/dist-packages (from google-auth<3,>=1.6.3->tensorboard<2.10,>=2.9->tensorflow==2.9.0) (4.9)\n",
            "Requirement already satisfied: pyasn1-modules>=0.2.1 in /usr/local/lib/python3.8/dist-packages (from google-auth<3,>=1.6.3->tensorboard<2.10,>=2.9->tensorflow==2.9.0) (0.2.8)\n",
            "Requirement already satisfied: requests-oauthlib>=0.7.0 in /usr/local/lib/python3.8/dist-packages (from google-auth-oauthlib<0.5,>=0.4.1->tensorboard<2.10,>=2.9->tensorflow==2.9.0) (1.3.1)\n",
            "Requirement already satisfied: importlib-metadata>=4.4 in /usr/local/lib/python3.8/dist-packages (from markdown>=2.6.8->tensorboard<2.10,>=2.9->tensorflow==2.9.0) (6.0.0)\n",
            "Requirement already satisfied: chardet<5,>=3.0.2 in /usr/local/lib/python3.8/dist-packages (from requests<3,>=2.21.0->tensorboard<2.10,>=2.9->tensorflow==2.9.0) (4.0.0)\n",
            "Requirement already satisfied: urllib3<1.27,>=1.21.1 in /usr/local/lib/python3.8/dist-packages (from requests<3,>=2.21.0->tensorboard<2.10,>=2.9->tensorflow==2.9.0) (1.24.3)\n",
            "Requirement already satisfied: idna<3,>=2.5 in /usr/local/lib/python3.8/dist-packages (from requests<3,>=2.21.0->tensorboard<2.10,>=2.9->tensorflow==2.9.0) (2.10)\n",
            "Requirement already satisfied: certifi>=2017.4.17 in /usr/local/lib/python3.8/dist-packages (from requests<3,>=2.21.0->tensorboard<2.10,>=2.9->tensorflow==2.9.0) (2022.12.7)\n",
            "Requirement already satisfied: zipp>=0.5 in /usr/local/lib/python3.8/dist-packages (from importlib-metadata>=4.4->markdown>=2.6.8->tensorboard<2.10,>=2.9->tensorflow==2.9.0) (3.13.0)\n",
            "Requirement already satisfied: pyasn1<0.5.0,>=0.4.6 in /usr/local/lib/python3.8/dist-packages (from pyasn1-modules>=0.2.1->google-auth<3,>=1.6.3->tensorboard<2.10,>=2.9->tensorflow==2.9.0) (0.4.8)\n",
            "Requirement already satisfied: oauthlib>=3.0.0 in /usr/local/lib/python3.8/dist-packages (from requests-oauthlib>=0.7.0->google-auth-oauthlib<0.5,>=0.4.1->tensorboard<2.10,>=2.9->tensorflow==2.9.0) (3.2.2)\n",
            "Installing collected packages: keras, flatbuffers, tensorflow-estimator, keras-preprocessing, tensorboard, tensorflow\n",
            "  Attempting uninstall: keras\n",
            "    Found existing installation: keras 2.11.0\n",
            "    Uninstalling keras-2.11.0:\n",
            "      Successfully uninstalled keras-2.11.0\n",
            "  Attempting uninstall: flatbuffers\n",
            "    Found existing installation: flatbuffers 23.1.21\n",
            "    Uninstalling flatbuffers-23.1.21:\n",
            "      Successfully uninstalled flatbuffers-23.1.21\n",
            "  Attempting uninstall: tensorflow-estimator\n",
            "    Found existing installation: tensorflow-estimator 2.11.0\n",
            "    Uninstalling tensorflow-estimator-2.11.0:\n",
            "      Successfully uninstalled tensorflow-estimator-2.11.0\n",
            "  Attempting uninstall: tensorboard\n",
            "    Found existing installation: tensorboard 2.11.2\n",
            "    Uninstalling tensorboard-2.11.2:\n",
            "      Successfully uninstalled tensorboard-2.11.2\n",
            "  Attempting uninstall: tensorflow\n",
            "    Found existing installation: tensorflow 2.11.0\n",
            "    Uninstalling tensorflow-2.11.0:\n",
            "      Successfully uninstalled tensorflow-2.11.0\n",
            "Successfully installed flatbuffers-1.12 keras-2.9.0 keras-preprocessing-1.1.2 tensorboard-2.9.1 tensorflow-2.9.0 tensorflow-estimator-2.9.0\n"
          ]
        }
      ],
      "source": [
        "!pip install tensorflow==2.9.0"
      ]
    },
    {
      "cell_type": "code",
      "execution_count": null,
      "metadata": {
        "colab": {
          "base_uri": "https://localhost:8080/"
        },
        "id": "P0vM6G9IfmEO",
        "outputId": "feaf1921-4d89-416d-f36b-0eadf2abc566"
      },
      "outputs": [
        {
          "output_type": "stream",
          "name": "stdout",
          "text": [
            "2.9.0\n"
          ]
        }
      ],
      "source": [
        "import tensorflow as tf\n",
        "print(tf.__version__) # Verificar 2.9.0"
      ]
    },
    {
      "cell_type": "code",
      "execution_count": null,
      "metadata": {
        "id": "4IEpzjwtUGxD"
      },
      "outputs": [],
      "source": [
        "import numpy as np\n",
        "import matplotlib.pyplot as plt\n",
        "\n",
        "#import tensorflow as tf \n",
        "from tensorflow import keras\n",
        "from keras.layers import Input, Dense, Add\n",
        "from keras.utils.vis_utils import plot_model\n",
        "\n",
        "from numpy.linalg import norm\n",
        "import pandas as pd\n",
        "\n",
        "import sklearn.metrics\n",
        "\n",
        "from keras import regularizers as l \n",
        "\n",
        "from sklearn.model_selection import KFold\n",
        "from sklearn.model_selection import ShuffleSplit\n",
        "from keras.wrappers.scikit_learn import KerasClassifier\n",
        "from sklearn.model_selection import GridSearchCV\n",
        "\n",
        "import os\n",
        "\n",
        "from matplotlib.ticker import FormatStrFormatter\n",
        "\n",
        "import time\n",
        "\n",
        "from scipy import interpolate"
      ]
    },
    {
      "cell_type": "code",
      "execution_count": null,
      "metadata": {
        "colab": {
          "base_uri": "https://localhost:8080/"
        },
        "id": "VJK1LgDiKas7",
        "outputId": "65fec6b0-94bf-4163-8639-16937907bba3"
      },
      "outputs": [
        {
          "output_type": "stream",
          "name": "stdout",
          "text": [
            "/content\n"
          ]
        }
      ],
      "source": [
        "print(os.getcwd())"
      ]
    },
    {
      "cell_type": "code",
      "execution_count": null,
      "metadata": {
        "colab": {
          "base_uri": "https://localhost:8080/"
        },
        "id": "1MIKM_4cKg5I",
        "outputId": "a840975d-540f-449f-c898-60bafe260583"
      },
      "outputs": [
        {
          "output_type": "stream",
          "name": "stdout",
          "text": [
            "/content/drive/MyDrive/Tesis Maestría /Codigos depurados/LPAR/ExperimentoA\n"
          ]
        }
      ],
      "source": [
        "os.chdir('/content/drive/MyDrive/Tesis Maestría /Codigos depurados/LPAR/ExperimentoA')\n",
        "print(os.getcwd())"
      ]
    },
    {
      "cell_type": "code",
      "execution_count": null,
      "metadata": {
        "id": "EGJjM2C4rjOW"
      },
      "outputs": [],
      "source": [
        "plt.rcParams['font.family'] = 'DeJavu Serif'\n",
        "plt.rcParams['font.serif'] = ['Times New Roman']"
      ]
    },
    {
      "cell_type": "code",
      "execution_count": null,
      "metadata": {
        "id": "7qH4PZF1U0fu"
      },
      "outputs": [],
      "source": [
        "def load_data():\n",
        "  mnist = keras.datasets.mnist\n",
        "  (X_train, y_train), (X_test, y_test) = mnist.load_data()\n",
        "  X_train, X_test = X_train / 255.0, X_test / 255.0\n",
        "  X_train = X_train.reshape(len(y_train),784)\n",
        "  X_test  = X_test.reshape(len(y_test),784)\n",
        "\n",
        "  y_train_onehot = keras.utils.to_categorical(y_train)\n",
        "  y_test_onehot =  keras.utils.to_categorical(y_test)\n",
        "\n",
        "  print(f'Conjunto de datos cargados')\n",
        "  print(f'Tamaño imágenes de entrenamiento {X_train[:10000].shape}')\n",
        "  print(f'Tamaño imágenes de test {X_test.shape}')\n",
        "  print(f'Datos por cada etiqueta en X train {np.bincount(y_train[:10000])}')\n",
        "  return X_train[:10000], X_test, y_train_onehot[:10000], y_test_onehot, y_train[:10000], y_test"
      ]
    },
    {
      "cell_type": "code",
      "execution_count": null,
      "metadata": {
        "colab": {
          "base_uri": "https://localhost:8080/"
        },
        "id": "_M0ixwc8U6Wg",
        "outputId": "3b1e762a-5e34-479b-8296-57e28be55474"
      },
      "outputs": [
        {
          "output_type": "stream",
          "name": "stdout",
          "text": [
            "Downloading data from https://storage.googleapis.com/tensorflow/tf-keras-datasets/mnist.npz\n",
            "11490434/11490434 [==============================] - 2s 0us/step\n",
            "Conjunto de datos cargados\n",
            "Tamaño imágenes de entrenamiento (10000, 784)\n",
            "Tamaño imágenes de test (10000, 784)\n",
            "Datos por cada etiqueta en X train [1001 1127  991 1032  980  863 1014 1070  944  978]\n"
          ]
        }
      ],
      "source": [
        "X_train, X_test, y_train_onehot, y_test_onehot, y_train, y_test = load_data()"
      ]
    },
    {
      "cell_type": "code",
      "execution_count": null,
      "metadata": {
        "colab": {
          "base_uri": "https://localhost:8080/",
          "height": 279
        },
        "id": "OMNo3jqeVAF4",
        "outputId": "3137712f-bf12-4124-c275-fd0df37fbb05"
      },
      "outputs": [
        {
          "output_type": "display_data",
          "data": {
            "text/plain": [
              "<Figure size 720x360 with 10 Axes>"
            ],
            "image/png": "[encoded data removed]"
          },
          "metadata": {}
        }
      ],
      "source": [
        "fig, ax = plt.subplots(nrows=2, ncols=5, sharex=True, sharey=True, figsize=(10, 5))\n",
        "\n",
        "ax = ax.flatten()\n",
        "for i in range(10):\n",
        "    img = X_train[y_train == i][0].reshape(28, 28)\n",
        "    ax[i].imshow(img, cmap='gist_yarg')\n",
        "\n",
        "ax[0].set_xticks([])\n",
        "ax[0].set_yticks([])\n",
        "\n",
        "plt.show()"
      ]
    },
    {
      "cell_type": "markdown",
      "metadata": {
        "id": "FrNYCbhMVX6L"
      },
      "source": [
        "## Modelo con $n$ saltos residuales"
      ]
    },
    {
      "cell_type": "code",
      "execution_count": null,
      "metadata": {
        "id": "UIfWWdHjVYqG"
      },
      "outputs": [],
      "source": [
        "def skip_conection(dense_input, n, regular_l):\n",
        "  if n >= 2:\n",
        "    resDense = Dense(20, activation ='relu', kernel_regularizer=regular_l)(dense_input)\n",
        "    return skip_conection(Add()([dense_input, resDense]), n-1, regular_l)\n",
        "  resDenseo = Dense(20, activation ='relu', kernel_regularizer=regular_l)(dense_input)\n",
        "  return Add()([dense_input, resDenseo])"
      ]
    },
    {
      "cell_type": "code",
      "execution_count": null,
      "metadata": {
        "id": "BYzpnRMbVbX1"
      },
      "outputs": [],
      "source": [
        "def load_model(n, regular_l):\n",
        "  keras.backend.clear_session()\n",
        "  inputs  = Input(shape=(784,))\n",
        "  dense1  = Dense(20, activation  ='relu', kernel_regularizer=regular_l)(inputs)\n",
        "  \n",
        "  skip_final = skip_conection(dense1, n, regular_l)\n",
        "\n",
        "  outputs = Dense(10, activation='softmax', kernel_regularizer=regular_l)(skip_final)\n",
        "  return keras.Model(inputs=inputs, outputs=outputs, name='RestNetCustomModelExperimentoA')"
      ]
    },
    {
      "cell_type": "code",
      "execution_count": null,
      "metadata": {
        "id": "5No1x97xuvXa"
      },
      "outputs": [],
      "source": [
        "class DataGenerator(tf.keras.utils.Sequence):\n",
        "    def __init__(self, images, labels, batch_size=100, shuffle=True):\n",
        "        super().__init__()\n",
        "        self.images = images\n",
        "        self.labels = labels\n",
        "        self.batch_size = batch_size\n",
        "        self.shuffle = shuffle\n",
        "        self.key_array = np.arange(self.images.shape[0], dtype=np.uint32)\n",
        "        self.on_epoch_end()\n",
        "\n",
        "    def __len__(self):\n",
        "        return len(self.key_array)//self.batch_size\n",
        "\n",
        "    def __getitem__(self, index):\n",
        "        keys = self.key_array[index*self.batch_size:(index+1)*self.batch_size]\n",
        "        x = np.asarray(self.images[keys], dtype=np.float32)\n",
        "        y = np.asarray(self.labels[keys], dtype=np.float32)\n",
        "      \n",
        "        return x, y\n",
        "\n",
        "    def on_epoch_end(self):\n",
        "        if self.shuffle:\n",
        "            self.key_array = np.random.permutation(self.key_array)"
      ]
    },
    {
      "cell_type": "code",
      "execution_count": null,
      "metadata": {
        "colab": {
          "base_uri": "https://localhost:8080/"
        },
        "id": "y8phwsxOuyiL",
        "outputId": "3890c305-d954-4ae2-98f4-1389ee31751b"
      },
      "outputs": [
        {
          "output_type": "execute_result",
          "data": {
            "text/plain": [
              "100"
            ]
          },
          "metadata": {},
          "execution_count": 14
        }
      ],
      "source": [
        "generator = DataGenerator(images=X_train, labels=y_train, batch_size=100, shuffle=True)\n",
        "n_batches = len(generator)\n",
        "n_batches"
      ]
    },
    {
      "cell_type": "code",
      "execution_count": null,
      "metadata": {
        "id": "FMCpwhStvCAH"
      },
      "outputs": [],
      "source": [
        "def lipschitz_bound(modelWeigts):\n",
        "  numberLayers = len(modelWeigts)\n",
        "  LipsBound = np.linalg.norm(modelWeigts[0], ord=2)     # Norma espectral (2) capa 1\n",
        "  if LipsBound == 0: LipsBound = 1\n",
        "\n",
        "  for rc in np.arange(2,numberLayers-2,2):              # En los indices de las capas residuales\n",
        "    try: \n",
        "      LipsBound *= (1 + np.linalg.norm(modelWeigts[rc], ord=2))\n",
        "    except:\n",
        "      LipsBound *= 1\n",
        "  \n",
        "  LipsBound *= np.linalg.norm(modelWeigts[numberLayers-2], ord=2) # Capa de salida\n",
        "\n",
        "  return  LipsBound"
      ]
    },
    {
      "cell_type": "markdown",
      "metadata": {
        "id": "dMjVK9xOvGxT"
      },
      "source": [
        "##  Funciones graficar "
      ]
    },
    {
      "cell_type": "code",
      "execution_count": null,
      "metadata": {
        "id": "MZnlIQu9uUrx"
      },
      "outputs": [],
      "source": [
        "def graphGridAcc(skip):\n",
        "  fig = plt.figure(figsize=(16, 12))\n",
        "  ax = plt.gca()\n",
        "  ax.yaxis.set_major_formatter(FormatStrFormatter('%.2f'))\n",
        "  plt.plot(epoch_vec, acc_train_mean_M0, '#5271ff', linestyle = \"-\", marker = \"o\",\n",
        "           label='Training Accuracy', lw = 3)\n",
        "  plt.plot(epoch_vec, acc_val_mean_M0,  '#ff5271', \n",
        "           label='Validation Accuracy', linestyle = '-', marker = 'o', lw = 3)\n",
        "  plt.fill_between(epoch_vec, acc_std_positive_M0, acc_std_negative_M0, \n",
        "                   label = r'$\\sigma$ Training Accuracy',\n",
        "                  alpha=0.2, color = '#5271ff')\n",
        "  plt.fill_between(epoch_vec, acc_std_positive_val_M0, acc_std_negative_val_M0, \n",
        "                   label = r'$\\sigma$ Validation Accuracy',\n",
        "                  alpha=0.2, color = '#ff5271')\n",
        "  plt.xlabel('Epoch',fontsize=36)\n",
        "  plt.ylabel(r'Accuracy',fontsize=36)\n",
        "  plt.xlim([1, n_epochs])\n",
        "  plt.ylim(top=1)\n",
        "  plt.grid()\n",
        "  plt.legend(fontsize=36,loc = 'lower right')\n",
        "  plt.xticks(np.arange(0, n_epochs+1, step=10), fontsize=36)\n",
        "  plt.yticks(fontsize=36)\n",
        "  plt.tight_layout()\n",
        "  nameFile = 'presicionModelo' + str(skip) + 'G' +'.pdf'\n",
        "  #plt.savefig(nameFile) \n",
        "  #plt.show()\n",
        "\n",
        "\n",
        "\n",
        "def graphAcc(skip):\n",
        "  fig = plt.figure(figsize=(16, 12))\n",
        "  ax = plt.gca()\n",
        "  ax.yaxis.set_major_formatter(FormatStrFormatter('%.2f'))\n",
        "  plt.plot(epoch_vec, acc_train_mean_M0, '#5271ff', linestyle = \"-\", marker = \"o\",\n",
        "           label='Training Accuracy', lw = 3)\n",
        "  plt.plot(epoch_vec, acc_val_mean_M0,  '#ff5271', \n",
        "           label='Validation Accuracy', linestyle = '-', marker = 'o', lw = 3)\n",
        "  plt.fill_between(epoch_vec, acc_std_positive_M0, acc_std_negative_M0, \n",
        "                   label = r'$\\sigma$ Training Accuracy',\n",
        "                  alpha=0.2, color = '#5271ff')\n",
        "  plt.fill_between(epoch_vec, acc_std_positive_val_M0, acc_std_negative_val_M0, \n",
        "                   label = r'$\\sigma$ Validation Accuracy',\n",
        "                  alpha=0.2, color = '#ff5271')\n",
        "  plt.xlim([1, n_epochs])\n",
        "  plt.ylim(top=1)\n",
        "  #plt.legend(fontsize=36, loc ='lower right')\n",
        "  #plt.savefig(nameFile) \n",
        "  #plt.show()\n"
      ]
    },
    {
      "cell_type": "code",
      "execution_count": null,
      "metadata": {
        "id": "eYnfvwO0Hx6Y"
      },
      "outputs": [],
      "source": [
        "def graphGridLipschtiz(skip):\n",
        "  fig = plt.figure(figsize=(16, 12))\n",
        "  ax = plt.gca()\n",
        "  #ax.yaxis.set_major_formatter(FormatStrFormatter('%.2f'))\n",
        "  plt.plot(epoch_vec, LB_mean_M0, '#5271ff', linestyle = \"-\", marker = \"o\",\n",
        "           label='Lipschitz Bound', lw = 3)\n",
        "  plt.fill_between(epoch_vec, LB_std_positive_M0, LB_std_negative_M0, \n",
        "                   alpha=0.2, color = '#5271ff',\n",
        "                  label = r'$\\sigma$ Lipschitz Bound')\n",
        "\n",
        "  plt.xlabel('Epoch',fontsize=36)\n",
        "  plt.ylabel(r'$LB$',fontsize=36)\n",
        "  plt.xlim([1, n_epochs])\n",
        "  plt.legend(fontsize=36,loc = 'best')\n",
        "  plt.xticks(np.arange(0, n_epochs+1, step=10), fontsize=36)\n",
        "  plt.yticks(fontsize=36)\n",
        "  plt.ticklabel_format(axis = 'y')\n",
        "  plt.grid()\n",
        "  nameFile = 'cotaLipschitzModelo' + str(skip) + 'G' +'.pdf'\n",
        "  plt.tight_layout()\n",
        "  plt.savefig(nameFile) \n",
        "  #plt.show()\n",
        "\n",
        "def graphLipschtiz(skip):\n",
        "  fig = plt.figure(figsize=(16, 12))\n",
        "  ax = plt.gca()\n",
        "  #ax.yaxis.set_major_formatter(FormatStrFormatter('%.2f'))\n",
        "  plt.plot(epoch_vec, LB_mean_M0, '#5271ff', linestyle = \"-\", marker = \"o\",\n",
        "           label='Lipschitz Bound', lw = 3)\n",
        "  plt.fill_between(epoch_vec, LB_std_positive_M0, LB_std_negative_M0, \n",
        "                   alpha=0.2, color = '#5271ff',\n",
        "                  label = r'$\\sigma$ Lipschitz Bound')\n",
        "\n",
        "  plt.xlabel('Epoch',fontsize=36)\n",
        "  plt.ylabel(r'$LB$',fontsize=36)\n",
        "  plt.xlim([1, n_epochs])\n",
        "  plt.legend(fontsize=36,loc = 'best')\n",
        "  plt.xticks(np.arange(0, n_epochs+1, step=10), fontsize=36)\n",
        "  plt.yticks(fontsize=36)\n",
        "  plt.ticklabel_format(axis = 'y')\n",
        "  plt.tight_layout()\n",
        "  nameFile = 'cotaLipschitzModelo' + str(skip) +'.pdf'\n",
        "  plt.savefig(nameFile) \n",
        "  #plt.show()"
      ]
    },
    {
      "cell_type": "code",
      "execution_count": null,
      "metadata": {
        "id": "4MpDCJNt41Bb"
      },
      "outputs": [],
      "source": [
        "def graphGridLipschtizlog(skip):\n",
        "  fig = plt.figure(figsize=(16, 12))\n",
        "  ax = plt.gca()\n",
        "  ax.yaxis.set_major_formatter(FormatStrFormatter('%.2f'))\n",
        "  plt.plot(epoch_vec, np.log10(LB_mean_M0), '#5271ff', linestyle = \"-\", marker = \"o\",\n",
        "           label='Lipschitz Bound', lw = 3)\n",
        "  plt.fill_between(epoch_vec, np.log10(LB_std_positive_M0), np.log10(LB_std_negative_M0), \n",
        "                   alpha=0.2, color = '#5271ff',\n",
        "                   label = r'$\\sigma$ Lipschitz Bound')\n",
        "\n",
        "  plt.xlabel('Epoch',fontsize=36)\n",
        "  plt.ylabel(r'$\\log_{10} (LB)$',fontsize=36)\n",
        "  plt.xlim([1, n_epochs])\n",
        "  plt.legend(fontsize=36,loc = 'best')\n",
        "  plt.xticks(np.arange(0, n_epochs+1, step=10), fontsize=36)\n",
        "  plt.yticks(fontsize=36)\n",
        "  plt.ticklabel_format(axis = 'y')\n",
        "  plt.grid()\n",
        "  plt.tight_layout()\n",
        "  nameFile = 'cotaLipschitzModelolog' + str(skip) + 'G' +'.pdf'\n",
        "  plt.tight_layout()\n",
        "  plt.savefig(nameFile) \n",
        "  #plt.show()\n",
        "\n",
        "def graphLipschtizlog(skip):\n",
        "  fig = plt.figure(figsize=(16, 12))\n",
        "  ax = plt.gca()\n",
        "  ax.yaxis.set_major_formatter(FormatStrFormatter('%.2f'))\n",
        "  plt.plot(epoch_vec, np.log10(LB_mean_M0), '#5271ff', linestyle = \"-\", marker = \"o\",\n",
        "           label='Lipschitz Bound', lw = 3)\n",
        "  plt.fill_between(epoch_vec, np.log10(LB_std_positive_M0), np.log10(LB_std_negative_M0), \n",
        "                   alpha=0.2, color = '#5271ff',\n",
        "                   label = r'$\\sigma$ Lipschitz Bound')\n",
        "\n",
        "  plt.xlabel('Epoch',fontsize=36)\n",
        "  plt.ylabel(r'$\\log_{10} (LB)$',fontsize=36)\n",
        "  plt.xlim([1, n_epochs])\n",
        "  plt.legend(fontsize=36,loc = 'best')\n",
        "  plt.xticks(np.arange(0, n_epochs+1, step=10), fontsize=36)\n",
        "  plt.yticks(fontsize=36)\n",
        "  plt.ticklabel_format(axis = 'y')\n",
        "  nameFile = 'cotaLipschitzModelolog' + str(skip) +'.pdf'\n",
        "  plt.tight_layout()\n",
        "  plt.savefig(nameFile) \n",
        "  #plt.show()"
      ]
    },
    {
      "cell_type": "code",
      "execution_count": null,
      "metadata": {
        "id": "uXZpVA-zXMlF"
      },
      "outputs": [],
      "source": [
        "def graphGridLoss(skip):\n",
        "  fig = plt.figure(figsize=(16, 12))\n",
        "  ax = plt.gca()\n",
        "  ax.yaxis.set_major_formatter(FormatStrFormatter('%.2f'))\n",
        "  plt.plot(epoch_vec, loss_mean_M0, '#5271ff', linestyle = \"-\", marker = \"o\",\n",
        "           label='Lost Training', lw = 3)\n",
        "  plt.fill_between(epoch_vec, loss_std_positive_M0, loss_std_negative_M0, \n",
        "                  label = r'$\\sigma$ Lost Training', \n",
        "                   alpha=0.2, color = '#5271ff')\n",
        "  plt.plot(epoch_vec, loss_mean_M0_val, '#ff5271', label='Lost Validation', \n",
        "           lw = 3, linestyle = '-', marker = 'o')\n",
        "  plt.fill_between(epoch_vec, loss_std_positive_M0_val, loss_std_negative_M0_val, \n",
        "                  label = r'$\\sigma$ Lost Validation',\n",
        "                   alpha=0.2, color = '#ff5271')\n",
        "\n",
        "  plt.xlabel('Epoch',fontsize=36)\n",
        "  plt.ylabel(r'$l(y,\\hat{y})$',fontsize=36)\n",
        "  plt.xlim([1, n_epochs])\n",
        "  plt.legend(fontsize=36,loc = 'upper right')\n",
        "  plt.xticks(np.arange(0, n_epochs+1, step=10), fontsize=36)\n",
        "  plt.yticks(fontsize=36)\n",
        "  ##plt.ticklabel_format(axis = 'y', style = 'scientific')\n",
        "  plt.grid()\n",
        "  nameFile = 'funcionPerdidaModelo' + str(skip) + 'G' + '.pdf'\n",
        "  plt.tight_layout()\n",
        "  plt.savefig(nameFile) \n",
        "  #plt.show()\n",
        "\n",
        "def graphLoss(skip):\n",
        "  fig = plt.figure(figsize=(16, 12))\n",
        "  ax = plt.gca()\n",
        "  ax.yaxis.set_major_formatter(FormatStrFormatter('%.2f'))\n",
        "  plt.plot(epoch_vec, loss_mean_M0, '#5271ff', linestyle = \"-\", marker = \"o\",\n",
        "           label='Lost Training', lw = 3)\n",
        "  plt.fill_between(epoch_vec, loss_std_positive_M0, loss_std_negative_M0, \n",
        "                  label = r'$\\sigma$ Lost Training', \n",
        "                   alpha=0.2, color = '#5271ff')\n",
        "  plt.plot(epoch_vec, loss_mean_M0_val, '#ff5271', label='Lost Validation', \n",
        "           lw = 3, linestyle = '-', marker = 'o')\n",
        "  plt.fill_between(epoch_vec, loss_std_positive_M0_val, loss_std_negative_M0_val, \n",
        "                  label = r'$\\sigma$ Lost Validation',\n",
        "                   alpha=0.2, color = '#ff5271')\n",
        "\n",
        "  plt.xlabel('Epoch',fontsize=36)\n",
        "  plt.ylabel(r'$l(y,\\hat{y})$',fontsize=36)\n",
        "  plt.xlim([1, n_epochs])\n",
        "  plt.legend(fontsize=36,loc = 'upper right')\n",
        "  plt.xticks(np.arange(0, n_epochs+1, step=10), fontsize=36)\n",
        "  plt.yticks(fontsize=36)\n",
        "  ##plt.ticklabel_format(axis = 'y', style = 'scientific')\n",
        "  nameFile = 'funcionPerdidaModelo' + str(skip) +'.pdf'\n",
        "  plt.tight_layout()\n",
        "  plt.savefig(nameFile) \n",
        "  #plt.show()\n"
      ]
    },
    {
      "cell_type": "markdown",
      "metadata": {
        "id": "dySQ3jrQVg3B"
      },
      "source": [
        "## Entrenamiento conjunto de modelos validación cruzada k-fold - Método Regularización Alternante cota Lipschitz"
      ]
    },
    {
      "cell_type": "code",
      "execution_count": null,
      "metadata": {
        "id": "i3UqG5y1RuFy"
      },
      "outputs": [],
      "source": [
        "class CustomLoss(keras.losses.Loss):\n",
        "    def __init__(self, Model = None, name=\"adaptativeRegularLB\"):\n",
        "        super().__init__(name=name)\n",
        "        self.Model = Model\n",
        "\n",
        "    def call(self, y_true, y_pred):\n",
        "        self.Model._callable_losses.clear()\n",
        "        cce = tf.keras.losses.CategoricalCrossentropy()\n",
        "        loss = tf.cast(cce(y_true, y_pred), \"float32\")\n",
        "        self.eig_values_radom(self.Model)\n",
        "        loss += sum(self.Model.losses)\n",
        "        return  loss \n",
        "\n",
        "    def eig_values_radom(self, Model):\n",
        "      allLayers = self.Model.layers\n",
        "      nLayers = len(allLayers)\n",
        "      randomLayer = np.random.choice(np.append([1], [np.arange(2,nLayers,2)]), size=1)[0]\n",
        "      EigVal = np.linalg.norm(allLayers[randomLayer].get_weights()[0], ord=2)\n",
        "      self.Model.add_loss(lambda: EigVal*tf.norm(allLayers[randomLayer].trainable_variables[0], ord=2))\n",
        "      #self.Model.add_loss(lambda: EigVal*tf.reduce_sum(tf.square(allLayers[randomLayer].trainable_variables[0])))\n",
        "      return "
      ]
    },
    {
      "cell_type": "code",
      "execution_count": null,
      "metadata": {
        "colab": {
          "base_uri": "https://localhost:8080/"
        },
        "id": "2YqMTDOkVdSJ",
        "outputId": "382e485b-7e73-4814-b4b1-e53bf050be0f"
      },
      "outputs": [
        {
          "output_type": "stream",
          "name": "stdout",
          "text": [
            "Modelo : 4 saltos residuales\n",
            "Número de K-folds: KFold(n_splits=5, random_state=None, shuffle=False)\n",
            "\n",
            "Iniciando Entrenamiento Validación Cruzada\n",
            "\n",
            " ----\n",
            "80\n",
            "Tiempo total 181.24709272384644 en k-fold 1\n",
            "80\n",
            "Tiempo total 156.73066902160645 en k-fold 2\n",
            "80\n",
            "Tiempo total 157.17247772216797 en k-fold 3\n",
            "80\n",
            "Tiempo total 157.70796036720276 en k-fold 4\n",
            "80\n",
            "Tiempo total 157.34672141075134 en k-fold 5\n",
            "Mean diference train and validation\n",
            "0.005099559071063981\n",
            "Area std train \n",
            "0.08914846181869507\n",
            "Area std test\n",
            "0.10881072999054954\n",
            "Modelo : 6 saltos residuales\n",
            "Número de K-folds: KFold(n_splits=5, random_state=None, shuffle=False)\n",
            "\n",
            "Iniciando Entrenamiento Validación Cruzada\n",
            "\n",
            " ----\n",
            "80\n",
            "Tiempo total 182.5286626815796 en k-fold 1\n",
            "80\n",
            "Tiempo total 174.97465538978577 en k-fold 2\n",
            "80\n",
            "Tiempo total 177.1969518661499 en k-fold 3\n",
            "80\n",
            "Tiempo total 174.1215946674347 en k-fold 4\n",
            "80\n",
            "Tiempo total 175.7730188369751 en k-fold 5\n",
            "Mean diference train and validation\n",
            "0.0063582872688770255\n",
            "Area std train \n",
            "0.06793340668082237\n",
            "Area std test\n",
            "0.093388647997045\n",
            "Modelo : 8 saltos residuales\n",
            "Número de K-folds: KFold(n_splits=5, random_state=None, shuffle=False)\n",
            "\n",
            "Iniciando Entrenamiento Validación Cruzada\n",
            "\n",
            " ----\n",
            "80\n",
            "Tiempo total 193.82920217514038 en k-fold 1\n",
            "80\n",
            "Tiempo total 194.49479866027832 en k-fold 2\n",
            "80\n",
            "Tiempo total 191.43851494789124 en k-fold 3\n",
            "80\n",
            "Tiempo total 193.24900007247925 en k-fold 4\n",
            "80\n",
            "Tiempo total 189.1873800754547 en k-fold 5\n",
            "Mean diference train and validation\n",
            "0.012919133372306822\n",
            "Area std train \n",
            "0.05325840786099434\n",
            "Area std test\n",
            "0.06433663684564568\n"
          ]
        }
      ],
      "source": [
        "skips = [4,6,8]\n",
        "n_epochs = 60\n",
        "resultGeneral = {}\n",
        "for skip in skips:\n",
        "  \n",
        "  optimizer = tf.keras.optimizers.SGD()\n",
        "  ce_loss = tf.keras.losses.CategoricalCrossentropy()\n",
        "  k_index = 0\n",
        "  Kf_eval_train_M0 = {}\n",
        "  Kf_eval_val_M0 = {}\n",
        "  Kf_LB_M0 = {}\n",
        "  Kf_loss = {}\n",
        "  Kf_loss_val = {}\n",
        "  acc_test = []\n",
        "\n",
        "  print(f'Modelo : {skip} saltos residuales')\n",
        "\n",
        "  kf = KFold(n_splits=5, shuffle=False)\n",
        "\n",
        "  print(f'Número de K-folds: {kf}')\n",
        "  print(f'\\nIniciando Entrenamiento Validación Cruzada')\n",
        "  print(f'\\n ----')\n",
        "  timeTotal = []\n",
        "  \n",
        "  for train_index, test_index in kf.split(X_train):\n",
        "    timeStart = time.time()\n",
        "    generator = DataGenerator(images=X_train[train_index], \n",
        "                              labels=y_train[train_index], \n",
        "                              batch_size=100, shuffle=True)\n",
        "    n_batches = len(generator)\n",
        "    print(n_batches)\n",
        "    model = load_model(skip,l.l2(0))\n",
        "\n",
        "    loss_train = np.zeros(shape=(n_epochs,), dtype=np.float32)\n",
        "    acc_train = np.zeros(shape=(n_epochs,), dtype=np.float32)\n",
        "    loss_val = np.zeros(shape=(n_epochs,))\n",
        "    acc_val = np.zeros(shape=(n_epochs,))\n",
        "    LB_1 = np.zeros(shape=(n_epochs,))\n",
        "    \n",
        "    for epoch in range(n_epochs):\n",
        "      epoch_loss_avg = tf.keras.metrics.Mean() # Keeping track of the training loss\n",
        "      epoch_acc_avg = tf.keras.metrics.Mean() # Keeping track of the training accuracy\n",
        "      for batch in range(n_batches):\n",
        "        x, y = generator[batch]\n",
        "\n",
        "        with tf.GradientTape() as tape: # Forward pass\n",
        "          y_ = model(x, training=True)\n",
        "          lossC = CustomLoss(Model = model)\n",
        "          loss = lossC(y_true=keras.utils.to_categorical(y, num_classes=10), y_pred=y_)\n",
        "        \n",
        "        grad = tape.gradient(loss, model.trainable_variables)\n",
        "        optimizer.apply_gradients(zip(grad, model.trainable_variables)) # Update network weights\n",
        "\n",
        "        epoch_loss_avg(loss)\n",
        "        epoch_acc_avg(sklearn.metrics.accuracy_score(y_true=y, y_pred=np.argmax(y_, axis=-1)))\n",
        "      \n",
        "      generator.on_epoch_end()\n",
        "\n",
        "      loss_train[epoch] = epoch_loss_avg.result()\n",
        "      acc_train[epoch] = epoch_acc_avg.result()\n",
        "\n",
        "      y_ = model(X_train[test_index]) # Validation predictions\n",
        "      loss_val[epoch] = ce_loss(y_true=y_train_onehot[test_index], y_pred=y_).numpy()\n",
        "      acc_val[epoch] = sklearn.metrics.accuracy_score(y_true=y_train[test_index], \n",
        "                                                      y_pred=np.argmax(y_, axis=-1))\n",
        "\n",
        "    \n",
        "      LB = lipschitz_bound(model.get_weights())\n",
        "      \n",
        "      LB_1[epoch]= LB\n",
        "\n",
        "\n",
        "\n",
        "    y_test_ = model(X_test)\n",
        "    acc_test.append(sklearn.metrics.accuracy_score(y_true=y_test, \n",
        "                                                      y_pred=np.argmax(y_test_, axis=-1)))\n",
        "\n",
        "    Kf_eval_train_M0[k_index] = acc_train\n",
        "    Kf_eval_val_M0[k_index] = acc_val\n",
        "    Kf_LB_M0[k_index] = LB_1\n",
        "    Kf_loss[k_index] = loss_train\n",
        "    Kf_loss_val[k_index] = loss_val\n",
        "    k_index += 1\n",
        "\n",
        "    timeFinal = time.time()\n",
        "    timeTotal.append(timeFinal - timeStart)\n",
        "    print(f'Tiempo total {timeTotal[k_index-1]} en k-fold {k_index}')\n",
        "  \n",
        "  \n",
        "  epoch_vec = range(1,n_epochs+1)\n",
        "  acc_train_mean_M0 = pd.DataFrame.mean(pd.DataFrame(Kf_eval_train_M0), axis = 1).to_numpy()\n",
        "  acc_train_std_M0 = pd.DataFrame.std(pd.DataFrame(Kf_eval_train_M0), axis = 1).to_numpy()\n",
        "\n",
        "  acc_val_mean_M0 = pd.DataFrame.mean(pd.DataFrame(Kf_eval_val_M0), axis = 1).to_numpy()\n",
        "  acc_val_std_M0 = pd.DataFrame.std(pd.DataFrame(Kf_eval_val_M0), axis = 1).to_numpy()\n",
        "\n",
        "  # Diference train and validation\n",
        "  diff_acc_mean = np.mean(acc_train_mean_M0 - acc_val_mean_M0)\n",
        "  print('Mean diference train and validation')\n",
        "  print(diff_acc_mean)\n",
        "   \n",
        "  acc_std_positive_M0 = acc_train_mean_M0 + acc_train_std_M0\n",
        "  acc_std_negative_M0 = acc_train_mean_M0 - acc_train_std_M0\n",
        "  # Area std train\n",
        "  print('Area std train ')\n",
        "  area_std_train = interpolate.InterpolatedUnivariateSpline(range(n_epochs), acc_train_std_M0, k=1).integral(0,1)\n",
        "  print(area_std_train)\n",
        "\n",
        "  acc_std_positive_val_M0 = acc_val_mean_M0 + acc_val_std_M0\n",
        "  acc_std_negative_val_M0 = acc_val_mean_M0 - acc_val_std_M0\n",
        "  # Area std test\n",
        "  print('Area std test')\n",
        "  area_std_test = interpolate.InterpolatedUnivariateSpline(range(n_epochs), acc_val_std_M0, k=1).integral(0,1)\n",
        "  print(area_std_test)\n",
        "\n",
        "  #graphGridAcc(skip)\n",
        "  #graphAcc(skip)\n",
        "\n",
        "  LB_mean_M0 = pd.DataFrame.mean(pd.DataFrame(Kf_LB_M0), axis = 1).to_numpy()\n",
        "  LB_std_M0 = pd.DataFrame.std(pd.DataFrame(Kf_LB_M0), axis = 1).to_numpy()\n",
        "  LB_std_positive_M0 = LB_mean_M0 + LB_std_M0\n",
        "  LB_std_negative_M0 = LB_mean_M0 - LB_std_M0\n",
        "\n",
        "  #graphGridLipschtiz(skip)\n",
        "  #graphLipschtiz(skip)\n",
        "  #graphGridLipschtizlog(skip)\n",
        "  #graphLipschtizlog(skip)\n",
        "\n",
        "  loss_mean_M0 = pd.DataFrame.mean(pd.DataFrame(Kf_loss), axis = 1).to_numpy()\n",
        "  loss_std_M0 = pd.DataFrame.std(pd.DataFrame(Kf_loss), axis = 1).to_numpy()\n",
        "  loss_std_positive_M0 = loss_mean_M0 + loss_std_M0\n",
        "  loss_std_negative_M0 = loss_mean_M0 - loss_std_M0\n",
        "\n",
        "  loss_mean_M0_val = pd.DataFrame.mean(pd.DataFrame(Kf_loss_val), axis = 1).to_numpy()\n",
        "  loss_std_M0_val = pd.DataFrame.std(pd.DataFrame(Kf_loss_val), axis = 1).to_numpy()\n",
        "  loss_std_positive_M0_val = loss_mean_M0_val + loss_std_M0_val\n",
        "  loss_std_negative_M0_val = loss_mean_M0_val - loss_std_M0_val\n",
        "\n",
        "  #graphGridLoss(skip)\n",
        "  #graphLoss(skip)\n",
        "\n",
        "  resultGeneral[skip] = [Kf_eval_train_M0, Kf_eval_val_M0, \n",
        "                         Kf_loss, Kf_loss_val, Kf_LB_M0, acc_test, timeTotal]\n",
        " \n",
        "pd.DataFrame.to_csv(pd.DataFrame(resultGeneral), 'ResultadosExperimentoALB.csv')\n"
      ]
    },
    {
      "cell_type": "markdown",
      "metadata": {
        "id": "OBIpgKW-xnw7"
      },
      "source": [
        "### Evaluación en test de los modelos "
      ]
    },
    {
      "cell_type": "code",
      "execution_count": null,
      "metadata": {
        "colab": {
          "base_uri": "https://localhost:8080/"
        },
        "id": "sVVN0uyM24oe",
        "outputId": "a1c96cdc-3e01-403a-a5f1-2a9587a790d5"
      },
      "outputs": [
        {
          "output_type": "stream",
          "name": "stdout",
          "text": [
            "Modelo 4, test 89.08 +/- 0.273\n",
            "Modelo 6, test 90.34 +/- 0.469\n",
            "Modelo 8, test 91.52 +/- 0.504\n"
          ]
        }
      ],
      "source": [
        "for skip in skips:\n",
        "  mean_test = np.mean(resultGeneral[skip][5])\n",
        "  std_test = np.std(resultGeneral[skip][5])\n",
        "  print(f'Modelo {skip}, test {mean_test*100:0.2f} +/- {std_test*100:0.3f}')"
      ]
    },
    {
      "cell_type": "markdown",
      "metadata": {
        "id": "Y-QUV3P6xuDh"
      },
      "source": [
        "### Evaluación en entrenamiento de los modelos"
      ]
    },
    {
      "cell_type": "code",
      "execution_count": null,
      "metadata": {
        "colab": {
          "base_uri": "https://localhost:8080/"
        },
        "id": "FsR96MhqmB8g",
        "outputId": "73cfa988-6611-4050-af6e-afa7ba00dcc6"
      },
      "outputs": [
        {
          "output_type": "stream",
          "name": "stdout",
          "text": [
            "Modelo 4, train 90.70 +/- 0.374\n",
            "Modelo 6, train 92.77 +/- 0.140\n",
            "Modelo 8, train 94.42 +/- 0.632\n"
          ]
        }
      ],
      "source": [
        "for skip in skips:\n",
        "  mean_train = np.mean([resultGeneral[skip][0][x][-1] for x in resultGeneral[skip][0]])\n",
        "  std_train = np.std([resultGeneral[skip][0][x][-1] for x in resultGeneral[skip][0]])\n",
        "  print(f'Modelo {skip}, train {mean_train*100:0.2f} +/- {std_train*100:0.3f}')"
      ]
    },
    {
      "cell_type": "markdown",
      "metadata": {
        "id": "5rgLMKg1jDWn"
      },
      "source": [
        "## Entrenamiento conjunto de modelos validación cruzada k-fold - Método Regularización L2"
      ]
    },
    {
      "cell_type": "markdown",
      "metadata": {
        "id": "NhHu_e6VkEP9"
      },
      "source": [
        "### Sintonización hiper-parámetro"
      ]
    },
    {
      "cell_type": "code",
      "execution_count": null,
      "metadata": {
        "id": "OcTqqO60lLe_"
      },
      "outputs": [],
      "source": [
        "skips = [4, 6, 8]\n",
        "kf = KFold(n_splits=5, shuffle=False)"
      ]
    },
    {
      "cell_type": "code",
      "execution_count": null,
      "metadata": {
        "colab": {
          "base_uri": "https://localhost:8080/"
        },
        "id": "IZBOrOnkDGk_",
        "outputId": "3cd7d6f8-8f8b-4f44-a18b-2bb41c03a272"
      },
      "outputs": [
        {
          "output_type": "stream",
          "name": "stdout",
          "text": [
            "Modelo 4, parametro 0.10000000149011612\n",
            "Kfold 1 acc train 0.8546249866485596, acc test 0.8349999785423279\n",
            "Kfold 2 acc train 0.8424999713897705, acc test 0.8500000238418579\n",
            "Kfold 3 acc train 0.8351250290870667, acc test 0.8314999938011169\n",
            "Kfold 4 acc train 0.8486250042915344, acc test 0.8485000133514404\n",
            "Kfold 5 acc train 0.8403750061988831, acc test 0.8289999961853027\n",
            "Fin modelo: promedio acc train 0.8442499995231628,std 0.006754617409830538\n",
            "Fin modelo: promedio acc test 0.8388000011444092,std 0.008755582464084068\n",
            "\n",
            "\n",
            "Modelo 4, parametro 0.009999999776482582\n",
            "Kfold 1 acc train 0.9548749923706055, acc test 0.906000018119812\n",
            "Kfold 2 acc train 0.9390000104904175, acc test 0.9304999709129333\n",
            "Kfold 3 acc train 0.9463750123977661, acc test 0.9330000281333923\n",
            "Kfold 4 acc train 0.9415000081062317, acc test 0.921999990940094\n",
            "Kfold 5 acc train 0.9478750228881836, acc test 0.9110000133514404\n",
            "Fin modelo: promedio acc train 0.9459250092506408,std 0.005507149840412815\n",
            "Fin modelo: promedio acc test 0.9205000042915344,std 0.010573545434375123\n",
            "\n",
            "\n",
            "Modelo 4, parametro 0.0010000000474974513\n",
            "Kfold 1 acc train 0.9710000157356262, acc test 0.921500027179718\n",
            "Kfold 2 acc train 0.9626250267028809, acc test 0.9294999837875366\n",
            "Kfold 3 acc train 0.9610000252723694, acc test 0.9269999861717224\n",
            "Kfold 4 acc train 0.9652500152587891, acc test 0.9259999990463257\n",
            "Kfold 5 acc train 0.9653750061988831, acc test 0.9160000085830688\n",
            "Fin modelo: promedio acc train 0.9650500178337097,std 0.0034009149701766392\n",
            "Fin modelo: promedio acc test 0.9240000009536743,std 0.004764440400553064\n",
            "\n",
            "\n",
            "Modelo 4, parametro 9.999999747378752e-05\n",
            "Kfold 1 acc train 0.9681249856948853, acc test 0.9139999747276306\n",
            "Kfold 2 acc train 0.9661250114440918, acc test 0.9294999837875366\n",
            "Kfold 3 acc train 0.9652500152587891, acc test 0.9244999885559082\n",
            "Kfold 4 acc train 0.9663749933242798, acc test 0.9279999732971191\n",
            "Kfold 5 acc train 0.9706249833106995, acc test 0.9185000061988831\n",
            "Fin modelo: promedio acc train 0.9672999978065491,std 0.0019065564932102639\n",
            "Fin modelo: promedio acc test 0.9228999853134155,std 0.0058429422777178715\n",
            "\n",
            "\n",
            "Modelo 6, parametro 0.10000000149011612\n",
            "Kfold 1 acc train 0.8566250205039978, acc test 0.8389999866485596\n",
            "Kfold 2 acc train 0.847000002861023, acc test 0.8424999713897705\n",
            "Kfold 3 acc train 0.8565000295639038, acc test 0.8485000133514404\n",
            "Kfold 4 acc train 0.8617500066757202, acc test 0.8445000052452087\n",
            "Kfold 5 acc train 0.8632500171661377, acc test 0.8525000214576721\n",
            "Fin modelo: promedio acc train 0.8570250153541565,std 0.005692322408220147\n",
            "Fin modelo: promedio acc test 0.8453999996185303,std 0.004694693065066765\n",
            "\n",
            "\n",
            "Modelo 6, parametro 0.009999999776482582\n",
            "Kfold 1 acc train 0.9585000276565552, acc test 0.9104999899864197\n",
            "Kfold 2 acc train 0.9568750262260437, acc test 0.9369999766349792\n",
            "Kfold 3 acc train 0.9576249718666077, acc test 0.9309999942779541\n",
            "Kfold 4 acc train 0.952875018119812, acc test 0.9160000085830688\n",
            "Kfold 5 acc train 0.953374981880188, acc test 0.9054999947547913\n",
            "Fin modelo: promedio acc train 0.9558500051498413,std 0.002289108226036744\n",
            "Fin modelo: promedio acc test 0.9199999928474426,std 0.012054039600145155\n",
            "\n",
            "\n",
            "Modelo 6, parametro 0.0010000000474974513\n",
            "Kfold 1 acc train 0.9626250267028809, acc test 0.9054999947547913\n",
            "Kfold 2 acc train 0.9570000171661377, acc test 0.921999990940094\n",
            "Kfold 3 acc train 0.9587500095367432, acc test 0.9164999723434448\n",
            "Kfold 4 acc train 0.9727500081062317, acc test 0.9125000238418579\n",
            "Kfold 5 acc train 0.9762499928474426, acc test 0.9200000166893005\n",
            "Fin modelo: promedio acc train 0.9654750108718873,std 0.007670715642846289\n",
            "Fin modelo: promedio acc test 0.9152999997138977,std 0.005870262999122956\n",
            "\n",
            "\n",
            "Modelo 6, parametro 9.999999747378752e-05\n",
            "Kfold 1 acc train 0.9767500162124634, acc test 0.9125000238418579\n",
            "Kfold 2 acc train 0.9752500057220459, acc test 0.9340000152587891\n",
            "Kfold 3 acc train 0.9697499871253967, acc test 0.9164999723434448\n",
            "Kfold 4 acc train 0.9754999876022339, acc test 0.9244999885559082\n",
            "Kfold 5 acc train 0.9710000157356262, acc test 0.9075000286102295\n",
            "Fin modelo: promedio acc train 0.9736500024795532,std 0.0027504577793525087\n",
            "Fin modelo: promedio acc test 0.9190000057220459,std 0.009338088692921681\n",
            "\n",
            "\n",
            "Modelo 8, parametro 0.10000000149011612\n",
            "Kfold 1 acc train 0.8579999804496765, acc test 0.8314999938011169\n",
            "Kfold 2 acc train 0.8479999899864197, acc test 0.8554999828338623\n",
            "Kfold 3 acc train 0.8618749976158142, acc test 0.8510000109672546\n",
            "Kfold 4 acc train 0.8677499890327454, acc test 0.859499990940094\n",
            "Kfold 5 acc train 0.8514999747276306, acc test 0.8355000019073486\n",
            "Fin modelo: promedio acc train 0.8574249863624572,std 0.007080610398234741\n",
            "Fin modelo: promedio acc test 0.8465999960899353,std 0.011101348585398138\n",
            "\n",
            "\n",
            "Modelo 8, parametro 0.009999999776482582\n",
            "Kfold 1 acc train 0.9601250290870667, acc test 0.9139999747276306\n",
            "Kfold 2 acc train 0.9483749866485596, acc test 0.9244999885559082\n",
            "Kfold 3 acc train 0.9502500295639038, acc test 0.925000011920929\n",
            "Kfold 4 acc train 0.9363750219345093, acc test 0.9089999794960022\n",
            "Kfold 5 acc train 0.9468749761581421, acc test 0.9045000076293945\n",
            "Fin modelo: promedio acc train 0.9484000086784363,std 0.007587164652767447\n",
            "Fin modelo: promedio acc test 0.9153999924659729,std 0.008206097580378597\n",
            "\n",
            "\n",
            "Modelo 8, parametro 0.0010000000474974513\n",
            "Kfold 1 acc train 0.9703750014305115, acc test 0.902999997138977\n",
            "Kfold 2 acc train 0.9599999785423279, acc test 0.921999990940094\n",
            "Kfold 3 acc train 0.9338750243186951, acc test 0.8859999775886536\n",
            "Kfold 4 acc train 0.9762499928474426, acc test 0.9194999933242798\n",
            "Kfold 5 acc train 0.9800000190734863, acc test 0.9194999933242798\n",
            "Fin modelo: promedio acc train 0.9641000032424927,std 0.01655395968686556\n",
            "Fin modelo: promedio acc test 0.9099999904632569,std 0.013780425571687288\n",
            "\n",
            "\n",
            "Modelo 8, parametro 9.999999747378752e-05\n",
            "Kfold 1 acc train 0.9624999761581421, acc test 0.9039999842643738\n",
            "Kfold 2 acc train 0.9662500023841858, acc test 0.9259999990463257\n",
            "Kfold 3 acc train 0.9747499823570251, acc test 0.9175000190734863\n",
            "Kfold 4 acc train 0.9582499861717224, acc test 0.9045000076293945\n",
            "Kfold 5 acc train 0.9646250009536743, acc test 0.9004999995231628\n",
            "Fin modelo: promedio acc train 0.96527498960495,std 0.005444262956271693\n",
            "Fin modelo: promedio acc test 0.9105000019073486,std 0.009669543526068922\n",
            "\n",
            "\n"
          ]
        }
      ],
      "source": [
        "param_grid = [ l.l2(0.1), l.l2(0.01), l.l2(0.001), l.l2(0.0001)]\n",
        "for skip in skips:\n",
        "  for param in param_grid:\n",
        "    print(f'Modelo {skip}, parametro {param.l2}')\n",
        "    i = 0\n",
        "    acc_train = []\n",
        "    acc_test = []\n",
        "    for train_index, test_index in kf.split(X_train): \n",
        "      model = load_model(skip,param)\n",
        "      model.compile(loss='categorical_crossentropy',\n",
        "                  optimizer='SGD', \n",
        "                  metrics=['accuracy'])\n",
        "      model.fit(X_train[train_index], \n",
        "                y_train_onehot[train_index],\n",
        "                epochs = 20, verbose = 0)\n",
        "      acc_train.append(model.evaluate(X_train[train_index], y_train_onehot[train_index],verbose = 0)[1])\n",
        "      acc_test.append(model.evaluate(X_train[test_index], y_train_onehot[test_index], verbose = 0)[1])\n",
        "      print(f'Kfold {i+1} acc train {acc_train[i]}, acc test {acc_test[i]}')\n",
        "      i+=1\n",
        "    print(f'Fin modelo: promedio acc train {np.mean(acc_train)},std {np.std(acc_train)}')\n",
        "    print(f'Fin modelo: promedio acc test {np.mean(acc_test)},std {np.std(acc_test)}')\n",
        "    print('\\n')"
      ]
    },
    {
      "cell_type": "code",
      "execution_count": null,
      "metadata": {
        "id": "3TQdUa__LAyT",
        "colab": {
          "base_uri": "https://localhost:8080/"
        },
        "outputId": "f6cc1102-f7a9-4933-fdca-65d43d0b9eee"
      },
      "outputs": [
        {
          "output_type": "execute_result",
          "data": {
            "text/plain": [
              "{4: <keras.regularizers.L2 at 0x7fb3d7227580>,\n",
              " 6: <keras.regularizers.L2 at 0x7fb3b3f38f40>,\n",
              " 8: <keras.regularizers.L2 at 0x7fb3b3f38b50>}"
            ]
          },
          "metadata": {},
          "execution_count": 26
        }
      ],
      "source": [
        "regularParameters = {4: l.l2(0.01), 6: l.l2(0.01), 8: l.l2(0.01)}\n",
        "regularParameters"
      ]
    },
    {
      "cell_type": "markdown",
      "metadata": {
        "id": "aNzsrdJyPYcL"
      },
      "source": [
        "### Entrenamiento"
      ]
    },
    {
      "cell_type": "code",
      "execution_count": null,
      "metadata": {
        "id": "1shjA81F__D8",
        "colab": {
          "base_uri": "https://localhost:8080/"
        },
        "outputId": "3301d895-47ff-4319-a2c2-0904ef1bca8d"
      },
      "outputs": [
        {
          "output_type": "stream",
          "name": "stdout",
          "text": [
            "Modelo : 4 saltos residuales\n",
            "Número de K-folds: KFold(n_splits=5, random_state=None, shuffle=False)\n",
            "\n",
            "Iniciando Entrenamiento Validación Cruzada\n",
            "\n",
            " ----\n",
            "80\n",
            "Tiempo total 120.81126856803894 en k-fold 1\n",
            "80\n",
            "Tiempo total 122.94959831237793 en k-fold 2\n",
            "80\n",
            "Tiempo total 121.05908393859863 en k-fold 3\n",
            "80\n",
            "Tiempo total 119.71034169197083 en k-fold 4\n",
            "80\n",
            "Tiempo total 122.81388592720032 en k-fold 5\n",
            "Mean diference train and validation\n",
            "0.011554119546413406\n",
            "Area std train \n",
            "0.110258299857378\n",
            "Area std test\n",
            "0.13516193044772887\n",
            "Modelo : 6 saltos residuales\n",
            "Número de K-folds: KFold(n_splits=5, random_state=None, shuffle=False)\n",
            "\n",
            "Iniciando Entrenamiento Validación Cruzada\n",
            "\n",
            " ----\n",
            "80\n",
            "Tiempo total 141.53112030029297 en k-fold 1\n",
            "80\n",
            "Tiempo total 142.68419313430786 en k-fold 2\n",
            "80\n",
            "Tiempo total 142.6655569076538 en k-fold 3\n",
            "80\n",
            "Tiempo total 144.74490642547607 en k-fold 4\n",
            "80\n",
            "Tiempo total 141.946608543396 en k-fold 5\n",
            "Mean diference train and validation\n",
            "0.016801204863389332\n",
            "Area std train \n",
            "0.07298453897237778\n",
            "Area std test\n",
            "0.06953494692717749\n",
            "Modelo : 8 saltos residuales\n",
            "Número de K-folds: KFold(n_splits=5, random_state=None, shuffle=False)\n",
            "\n",
            "Iniciando Entrenamiento Validación Cruzada\n",
            "\n",
            " ----\n",
            "80\n",
            "Tiempo total 162.67152333259583 en k-fold 1\n",
            "80\n",
            "Tiempo total 167.88193702697754 en k-fold 2\n",
            "80\n",
            "Tiempo total 166.14177012443542 en k-fold 3\n",
            "80\n",
            "Tiempo total 162.41420674324036 en k-fold 4\n",
            "80\n",
            "Tiempo total 162.86663174629211 en k-fold 5\n",
            "Mean diference train and validation\n",
            "0.018467877394358335\n",
            "Area std train \n",
            "0.1346207670867443\n",
            "Area std test\n",
            "0.17141568958344\n"
          ]
        }
      ],
      "source": [
        "skips = [4,6,8]\n",
        "n_epochs = 60\n",
        "resultGeneralL2 = {}\n",
        "\n",
        "for skip in skips:\n",
        "  \n",
        "  optimizer = tf.keras.optimizers.SGD()\n",
        "  ce_loss = tf.keras.losses.CategoricalCrossentropy()\n",
        "  k_index = 0\n",
        "  Kf_eval_train_M0 = {}\n",
        "  Kf_eval_val_M0 = {}\n",
        "  Kf_LB_M0 = {}\n",
        "  Kf_loss = {}\n",
        "  Kf_loss_val = {}\n",
        "  acc_test = []\n",
        "\n",
        "  print(f'Modelo : {skip} saltos residuales')\n",
        "\n",
        "  kf = KFold(n_splits=5, shuffle=False)\n",
        "\n",
        "  print(f'Número de K-folds: {kf}')\n",
        "  print(f'\\nIniciando Entrenamiento Validación Cruzada')\n",
        "  print(f'\\n ----')\n",
        "  timeTotal = []\n",
        "\n",
        "  for train_index, test_index in kf.split(X_train):\n",
        "    timeStart = time.time()\n",
        "    generator = DataGenerator(images=X_train[train_index], \n",
        "                              labels=y_train[train_index], \n",
        "                              batch_size=100, shuffle=True)\n",
        "    n_batches = len(generator)\n",
        "    print(n_batches)\n",
        "    model = load_model(skip,regularParameters[skip])\n",
        "    model.compile(optimizer=optimizer, \n",
        "                  loss = tf.keras.losses.CategoricalCrossentropy(), \n",
        "                  metrics =['accuracy'])\n",
        "    loss_train = np.zeros(shape=(n_epochs,), dtype=np.float32)\n",
        "    acc_train = np.zeros(shape=(n_epochs,), dtype=np.float32)\n",
        "    loss_val = np.zeros(shape=(n_epochs,))\n",
        "    acc_val = np.zeros(shape=(n_epochs,))\n",
        "    LB_1 = np.zeros(shape=(n_epochs,))\n",
        "    for epoch in range(n_epochs):\n",
        "      epoch_loss_avg = tf.keras.metrics.Mean() # Keeping track of the training loss\n",
        "      epoch_acc_avg = tf.keras.metrics.Mean() # Keeping track of the training accuracy\n",
        "      \n",
        "      for batch in range(n_batches):\n",
        "        x, y = generator[batch]\n",
        "        with tf.GradientTape() as tape: # Forward pass\n",
        "          y_ = model(x, training=True)\n",
        "          loss = ce_loss(y_true=keras.utils.to_categorical(y, num_classes=10), y_pred=y_)\n",
        "          loss += tf.add_n(model.losses)\n",
        "        grad = tape.gradient(loss, model.trainable_variables)\n",
        "        optimizer.apply_gradients(zip(grad, model.trainable_variables)) # Update network weights\n",
        "\n",
        "        epoch_loss_avg(loss)\n",
        "        epoch_acc_avg(sklearn.metrics.accuracy_score(y_true=y, y_pred=np.argmax(y_, axis=-1)))\n",
        "      \n",
        "      generator.on_epoch_end()\n",
        "\n",
        "      loss_train[epoch] = epoch_loss_avg.result()\n",
        "      acc_train[epoch] = epoch_acc_avg.result()\n",
        "      \n",
        "      y_ = model.predict(X_train[test_index], verbose=0) # Validation predictions\n",
        "\n",
        "      loss_val[epoch] = ce_loss(y_true= keras.utils.to_categorical(y_train[test_index], num_classes=10), \n",
        "                                y_pred=y_).numpy()\n",
        "      acc_val[epoch] = sklearn.metrics.accuracy_score(y_true=y_train[test_index], \n",
        "                                                      y_pred=np.argmax(y_, axis=-1))\n",
        "      LB_1[epoch] = lipschitz_bound(model.get_weights())\n",
        "\n",
        "    y_test_ = model(X_test)\n",
        "    acc_test.append(sklearn.metrics.accuracy_score(y_true=y_test, \n",
        "                                                      y_pred=np.argmax(y_test_, axis=-1)))\n",
        "\n",
        "    Kf_eval_train_M0[k_index] = acc_train\n",
        "    Kf_eval_val_M0[k_index] = acc_val\n",
        "    Kf_LB_M0[k_index] = LB_1\n",
        "    Kf_loss[k_index] = loss_train\n",
        "    Kf_loss_val[k_index] = loss_val\n",
        "    k_index += 1\n",
        "\n",
        "    timeFinal = time.time()\n",
        "    timeTotal.append(timeFinal - timeStart)\n",
        "    print(f'Tiempo total {timeTotal[k_index-1]} en k-fold {k_index}')\n",
        "  \n",
        "  \n",
        "  epoch_vec = range(1,n_epochs+1)\n",
        "  acc_train_mean_M0 = pd.DataFrame.mean(pd.DataFrame(Kf_eval_train_M0), axis = 1).to_numpy()\n",
        "  acc_train_std_M0 = pd.DataFrame.std(pd.DataFrame(Kf_eval_train_M0), axis = 1).to_numpy()\n",
        "\n",
        "  acc_val_mean_M0 = pd.DataFrame.mean(pd.DataFrame(Kf_eval_val_M0), axis = 1).to_numpy()\n",
        "  acc_val_std_M0 = pd.DataFrame.std(pd.DataFrame(Kf_eval_val_M0), axis = 1).to_numpy()\n",
        "\n",
        "  # Diference train and validation\n",
        "  diff_acc_mean = np.mean(acc_train_mean_M0 - acc_val_mean_M0)\n",
        "  print('Mean diference train and validation')\n",
        "  print(diff_acc_mean)\n",
        "   \n",
        "  acc_std_positive_M0 = acc_train_mean_M0 + acc_train_std_M0\n",
        "  acc_std_negative_M0 = acc_train_mean_M0 - acc_train_std_M0\n",
        "  # Area std train\n",
        "  print('Area std train ')\n",
        "  area_std_train = interpolate.InterpolatedUnivariateSpline(range(n_epochs), acc_train_std_M0, k=1).integral(0,1)\n",
        "  print(area_std_train)\n",
        "\n",
        "  acc_std_positive_val_M0 = acc_val_mean_M0 + acc_val_std_M0\n",
        "  acc_std_negative_val_M0 = acc_val_mean_M0 - acc_val_std_M0\n",
        "  # Area std test\n",
        "  print('Area std test')\n",
        "  area_std_test = interpolate.InterpolatedUnivariateSpline(range(n_epochs), acc_val_std_M0, k=1).integral(0,1)\n",
        "  print(area_std_test)\n",
        "\n",
        "\n",
        "  #graphGridAcc(skip)\n",
        "  #graphAcc(skip)\n",
        "\n",
        "  LB_mean_M0 = pd.DataFrame.mean(pd.DataFrame(Kf_LB_M0), axis = 1).to_numpy()\n",
        "  LB_std_M0 = pd.DataFrame.std(pd.DataFrame(Kf_LB_M0), axis = 1).to_numpy()\n",
        "  LB_std_positive_M0 = LB_mean_M0 + LB_std_M0\n",
        "  LB_std_negative_M0 = LB_mean_M0 - LB_std_M0\n",
        "\n",
        "  #graphGridLipschtiz(skip)\n",
        "  #graphLipschtiz(skip)\n",
        "  #graphGridLipschtizlog(skip)\n",
        "  #graphLipschtizlog(skip)\n",
        "\n",
        "  loss_mean_M0 = pd.DataFrame.mean(pd.DataFrame(Kf_loss), axis = 1).to_numpy()\n",
        "  loss_std_M0 = pd.DataFrame.std(pd.DataFrame(Kf_loss), axis = 1).to_numpy()\n",
        "  loss_std_positive_M0 = loss_mean_M0 + loss_std_M0\n",
        "  loss_std_negative_M0 = loss_mean_M0 - loss_std_M0\n",
        "\n",
        "  loss_mean_M0_val = pd.DataFrame.mean(pd.DataFrame(Kf_loss_val), axis = 1).to_numpy()\n",
        "  loss_std_M0_val = pd.DataFrame.std(pd.DataFrame(Kf_loss_val), axis = 1).to_numpy()\n",
        "  loss_std_positive_M0_val = loss_mean_M0_val + loss_std_M0_val\n",
        "  loss_std_negative_M0_val = loss_mean_M0_val - loss_std_M0_val\n",
        "\n",
        "  #graphGridLoss(skip)\n",
        "  #graphLoss(skip)\n",
        "\n",
        "  \n",
        "\n",
        "  resultGeneralL2[skip] = [Kf_eval_train_M0, Kf_eval_val_M0, Kf_loss, Kf_loss_val, Kf_LB_M0, acc_test, timeTotal]\n",
        " \n",
        "pd.DataFrame.to_csv(pd.DataFrame(resultGeneralL2), 'ResultadosExperimentoALBL2.csv')"
      ]
    },
    {
      "cell_type": "markdown",
      "metadata": {
        "id": "ZqYonK69QB3Q"
      },
      "source": [
        "### Evaluación en test de los modelos"
      ]
    },
    {
      "cell_type": "code",
      "execution_count": null,
      "metadata": {
        "id": "xxQyD2z_QHWJ",
        "colab": {
          "base_uri": "https://localhost:8080/"
        },
        "outputId": "3817fee0-7415-412a-baaf-3b148d41fed7"
      },
      "outputs": [
        {
          "output_type": "stream",
          "name": "stdout",
          "text": [
            "Modelo 4, test 92.02 +/- 0.270\n",
            "Modelo 6, test 92.30 +/- 0.156\n",
            "Modelo 8, test 91.66 +/- 0.627\n"
          ]
        }
      ],
      "source": [
        "for skip in skips:\n",
        "  mean_test = np.mean(resultGeneralL2[skip][5])\n",
        "  std_test = np.std(resultGeneralL2[skip][5])\n",
        "  print(f'Modelo {skip}, test {mean_test*100:0.2f} +/- {std_test*100:0.3f}')"
      ]
    },
    {
      "cell_type": "markdown",
      "metadata": {
        "id": "5WrqPTMkQHpQ"
      },
      "source": [
        "### Evaluación en entrenamiento de los modelos"
      ]
    },
    {
      "cell_type": "code",
      "execution_count": null,
      "metadata": {
        "id": "m-xrL8HkQVHB",
        "colab": {
          "base_uri": "https://localhost:8080/"
        },
        "outputId": "1d0230c0-e051-4da6-92b8-5c95655d14c8"
      },
      "outputs": [
        {
          "output_type": "stream",
          "name": "stdout",
          "text": [
            "Modelo 4, train 94.81 +/- 0.267\n",
            "Modelo 6, train 95.66 +/- 0.436\n",
            "Modelo 8, train 95.68 +/- 0.701\n"
          ]
        }
      ],
      "source": [
        "for skip in skips:\n",
        "  mean_train = np.mean([resultGeneralL2[skip][0][x][-1] for x in resultGeneralL2[skip][0]])\n",
        "  std_train = np.std([resultGeneralL2[skip][0][x][-1] for x in resultGeneralL2[skip][0]])\n",
        "  print(f'Modelo {skip}, train {mean_train*100:0.2f} +/- {std_train*100:0.3f}')"
      ]
    },
    {
      "cell_type": "markdown",
      "metadata": {
        "id": "EYfH6p1Rzd3W"
      },
      "source": [
        "## Entrenamiento conjunto de modelos validación cruzada k-fold - Método Regularización L1"
      ]
    },
    {
      "cell_type": "markdown",
      "metadata": {
        "id": "eOQ13YlXz1rj"
      },
      "source": [
        "### Sintonización hiper-parámetro"
      ]
    },
    {
      "cell_type": "code",
      "execution_count": null,
      "metadata": {
        "id": "QKVcp7SLzhlI"
      },
      "outputs": [],
      "source": [
        "skips = [4, 6, 8]\n",
        "kf = KFold(n_splits=5, shuffle=False)"
      ]
    },
    {
      "cell_type": "code",
      "execution_count": null,
      "metadata": {
        "id": "fDAvDtMszkMe",
        "colab": {
          "base_uri": "https://localhost:8080/"
        },
        "outputId": "b606eb9c-b171-40da-f192-6dcd450a53f7"
      },
      "outputs": [
        {
          "output_type": "stream",
          "name": "stdout",
          "text": [
            "Modelo 4, parametro 0.10000000149011612\n",
            "Kfold 1 acc train 0.11337500065565109, acc test 0.10999999940395355\n",
            "Kfold 2 acc train 0.11287499964237213, acc test 0.1120000034570694\n",
            "Kfold 3 acc train 0.11249999701976776, acc test 0.11349999904632568\n",
            "Kfold 4 acc train 0.11150000244379044, acc test 0.11749999970197678\n",
            "Kfold 5 acc train 0.1132500022649765, acc test 0.11050000041723251\n",
            "Fin modelo: promedio acc train 0.11270000040531158,std 0.0006736094682305085\n",
            "Fin modelo: promedio acc test 0.11270000040531158,std 0.002694438425944872\n",
            "\n",
            "\n",
            "Modelo 4, parametro 0.009999999776482582\n",
            "Kfold 1 acc train 0.8641250133514404, acc test 0.843999981880188\n",
            "Kfold 2 acc train 0.8662499785423279, acc test 0.8619999885559082\n",
            "Kfold 3 acc train 0.8737499713897705, acc test 0.8705000281333923\n",
            "Kfold 4 acc train 0.8768749833106995, acc test 0.8619999885559082\n",
            "Kfold 5 acc train 0.878000020980835, acc test 0.8579999804496765\n",
            "Fin modelo: promedio acc train 0.8717999935150147,std 0.005616159941162176\n",
            "Fin modelo: promedio acc test 0.8592999935150146,std 0.008669499545999632\n",
            "\n",
            "\n",
            "Modelo 4, parametro 0.0010000000474974513\n",
            "Kfold 1 acc train 0.9598749876022339, acc test 0.9169999957084656\n",
            "Kfold 2 acc train 0.9633749723434448, acc test 0.9409999847412109\n",
            "Kfold 3 acc train 0.9611250162124634, acc test 0.9309999942779541\n",
            "Kfold 4 acc train 0.968375027179718, acc test 0.9225000143051147\n",
            "Kfold 5 acc train 0.9570000171661377, acc test 0.9120000004768372\n",
            "Fin modelo: promedio acc train 0.9619500041007996,std 0.003815760086685919\n",
            "Fin modelo: promedio acc test 0.9246999979019165,std 0.010303391883274424\n",
            "\n",
            "\n",
            "Modelo 4, parametro 9.999999747378752e-05\n",
            "Kfold 1 acc train 0.9647499918937683, acc test 0.9144999980926514\n",
            "Kfold 2 acc train 0.9700000286102295, acc test 0.9409999847412109\n",
            "Kfold 3 acc train 0.9586250185966492, acc test 0.9164999723434448\n",
            "Kfold 4 acc train 0.9647499918937683, acc test 0.9284999966621399\n",
            "Kfold 5 acc train 0.965624988079071, acc test 0.9125000238418579\n",
            "Fin modelo: promedio acc train 0.9647500038146972,std 0.003628878662567731\n",
            "Fin modelo: promedio acc test 0.922599995136261,std 0.010753597405471037\n",
            "\n",
            "\n",
            "Modelo 6, parametro 0.10000000149011612\n",
            "Kfold 1 acc train 0.11337500065565109, acc test 0.10999999940395355\n",
            "Kfold 2 acc train 0.11287499964237213, acc test 0.1120000034570694\n",
            "Kfold 3 acc train 0.11249999701976776, acc test 0.11349999904632568\n",
            "Kfold 4 acc train 0.11150000244379044, acc test 0.11749999970197678\n",
            "Kfold 5 acc train 0.1132500022649765, acc test 0.11050000041723251\n",
            "Fin modelo: promedio acc train 0.11270000040531158,std 0.0006736094682305085\n",
            "Fin modelo: promedio acc test 0.11270000040531158,std 0.002694438425944872\n",
            "\n",
            "\n",
            "Modelo 6, parametro 0.009999999776482582\n",
            "Kfold 1 acc train 0.8761249780654907, acc test 0.8565000295639038\n",
            "Kfold 2 acc train 0.8583750128746033, acc test 0.8565000295639038\n",
            "Kfold 3 acc train 0.8728749752044678, acc test 0.8690000176429749\n",
            "Kfold 4 acc train 0.878125011920929, acc test 0.8669999837875366\n",
            "Kfold 5 acc train 0.8115000128746033, acc test 0.7994999885559082\n",
            "Fin modelo: promedio acc train 0.8593999981880188,std 0.024929441569002234\n",
            "Fin modelo: promedio acc test 0.8497000098228454,std 0.02562928821951389\n",
            "\n",
            "\n",
            "Modelo 6, parametro 0.0010000000474974513\n",
            "Kfold 1 acc train 0.9635000228881836, acc test 0.9185000061988831\n",
            "Kfold 2 acc train 0.9633749723434448, acc test 0.9380000233650208\n",
            "Kfold 3 acc train 0.9523749947547913, acc test 0.9114999771118164\n",
            "Kfold 4 acc train 0.9502500295639038, acc test 0.9049999713897705\n",
            "Kfold 5 acc train 0.953499972820282, acc test 0.9129999876022339\n",
            "Fin modelo: promedio acc train 0.9565999984741211,std 0.00567967478801763\n",
            "Fin modelo: promedio acc test 0.9171999931335449,std 0.01125435072547441\n",
            "\n",
            "\n",
            "Modelo 6, parametro 9.999999747378752e-05\n",
            "Kfold 1 acc train 0.9707499742507935, acc test 0.9104999899864197\n",
            "Kfold 2 acc train 0.9645000100135803, acc test 0.925000011920929\n",
            "Kfold 3 acc train 0.9649999737739563, acc test 0.9169999957084656\n",
            "Kfold 4 acc train 0.9738749861717224, acc test 0.9254999756813049\n",
            "Kfold 5 acc train 0.9835000038146973, acc test 0.9190000295639038\n",
            "Fin modelo: promedio acc train 0.9715249896049499,std 0.0069491045155551994\n",
            "Fin modelo: promedio acc test 0.9194000005722046,std 0.005544366727012581\n",
            "\n",
            "\n",
            "Modelo 8, parametro 0.10000000149011612\n",
            "Kfold 1 acc train 0.11337500065565109, acc test 0.10999999940395355\n",
            "Kfold 2 acc train 0.11287499964237213, acc test 0.1120000034570694\n",
            "Kfold 3 acc train 0.11249999701976776, acc test 0.11349999904632568\n",
            "Kfold 4 acc train 0.11150000244379044, acc test 0.11749999970197678\n",
            "Kfold 5 acc train 0.1132500022649765, acc test 0.11050000041723251\n",
            "Fin modelo: promedio acc train 0.11270000040531158,std 0.0006736094682305085\n",
            "Fin modelo: promedio acc test 0.11270000040531158,std 0.002694438425944872\n",
            "\n",
            "\n",
            "Modelo 8, parametro 0.009999999776482582\n",
            "Kfold 1 acc train 0.8736249804496765, acc test 0.8535000085830688\n",
            "Kfold 2 acc train 0.7465000152587891, acc test 0.7605000138282776\n",
            "Kfold 3 acc train 0.8776249885559082, acc test 0.8700000047683716\n",
            "Kfold 4 acc train 0.8738750219345093, acc test 0.8519999980926514\n",
            "Kfold 5 acc train 0.8658750057220459, acc test 0.8424999713897705\n",
            "Fin modelo: promedio acc train 0.8475000023841858,std 0.05064446479931536\n",
            "Fin modelo: promedio acc test 0.835699999332428,std 0.03862718757977861\n",
            "\n",
            "\n",
            "Modelo 8, parametro 0.0010000000474974513\n",
            "Kfold 1 acc train 0.9639999866485596, acc test 0.9045000076293945\n",
            "Kfold 2 acc train 0.9593750238418579, acc test 0.9279999732971191\n",
            "Kfold 3 acc train 0.9706249833106995, acc test 0.9315000176429749\n",
            "Kfold 4 acc train 0.9503750205039978, acc test 0.9154999852180481\n",
            "Kfold 5 acc train 0.9398750066757202, acc test 0.890500009059906\n",
            "Fin modelo: promedio acc train 0.956850004196167,std 0.010745454643889981\n",
            "Fin modelo: promedio acc test 0.9139999985694885,std 0.015145951635370388\n",
            "\n",
            "\n",
            "Modelo 8, parametro 9.999999747378752e-05\n",
            "Kfold 1 acc train 0.9661250114440918, acc test 0.8989999890327454\n",
            "Kfold 2 acc train 0.9453750252723694, acc test 0.9150000214576721\n",
            "Kfold 3 acc train 0.9621250033378601, acc test 0.9204999804496765\n",
            "Kfold 4 acc train 0.9697499871253967, acc test 0.9135000109672546\n",
            "Kfold 5 acc train 0.9722499847412109, acc test 0.8999999761581421\n",
            "Fin modelo: promedio acc train 0.9631250023841857,std 0.009510178397479984\n",
            "Fin modelo: promedio acc test 0.9095999956130981,std 0.008575553409097499\n",
            "\n",
            "\n"
          ]
        }
      ],
      "source": [
        "param_grid = [ l.l1(0.1), l.l1(0.01), l.l1(0.001), l.l1(0.0001)]\n",
        "for skip in skips:\n",
        "  for param in param_grid:\n",
        "    print(f'Modelo {skip}, parametro {param.l1}')\n",
        "    i = 0\n",
        "    acc_train = []\n",
        "    acc_test = []\n",
        "    for train_index, test_index in kf.split(X_train): \n",
        "      model = load_model(skip,param)\n",
        "      model.compile(loss='categorical_crossentropy',\n",
        "                  optimizer='SGD', \n",
        "                  metrics=['accuracy'])\n",
        "      model.fit(X_train[train_index], \n",
        "                y_train_onehot[train_index],\n",
        "                epochs = 20, verbose = 0)\n",
        "      acc_train.append(model.evaluate(X_train[train_index], y_train_onehot[train_index],verbose = 0)[1])\n",
        "      acc_test.append(model.evaluate(X_train[test_index], y_train_onehot[test_index], verbose = 0)[1])\n",
        "      print(f'Kfold {i+1} acc train {acc_train[i]}, acc test {acc_test[i]}')\n",
        "      i+=1\n",
        "    print(f'Fin modelo: promedio acc train {np.mean(acc_train)},std {np.std(acc_train)}')\n",
        "    print(f'Fin modelo: promedio acc test {np.mean(acc_test)},std {np.std(acc_test)}')\n",
        "    print('\\n')"
      ]
    },
    {
      "cell_type": "code",
      "execution_count": null,
      "metadata": {
        "id": "0Uvcvt4sztWS",
        "colab": {
          "base_uri": "https://localhost:8080/"
        },
        "outputId": "6ee7261a-80cb-47c9-9b0e-7077d9610d4c"
      },
      "outputs": [
        {
          "output_type": "execute_result",
          "data": {
            "text/plain": [
              "{4: <keras.regularizers.L1 at 0x7fb3b3f31fd0>,\n",
              " 6: <keras.regularizers.L1 at 0x7fb3b3f31cd0>,\n",
              " 8: <keras.regularizers.L1 at 0x7fb3b3f31160>}"
            ]
          },
          "metadata": {},
          "execution_count": 32
        }
      ],
      "source": [
        "regularParameters = {4: l.l1(0.0001), 6: l.l1(0.0001), 8: l.l1(0.0001)}\n",
        "regularParameters"
      ]
    },
    {
      "cell_type": "markdown",
      "metadata": {
        "id": "n8Mf5eO6zw9y"
      },
      "source": [
        "### Entrenamiento"
      ]
    },
    {
      "cell_type": "code",
      "execution_count": null,
      "metadata": {
        "id": "Ht44PJtBz-3o",
        "colab": {
          "base_uri": "https://localhost:8080/"
        },
        "outputId": "dfd91e2b-c72c-4dd1-ce3c-e21c146d812e"
      },
      "outputs": [
        {
          "output_type": "stream",
          "name": "stdout",
          "text": [
            "Modelo : 4 saltos residuales\n",
            "Número de K-folds: KFold(n_splits=5, random_state=None, shuffle=False)\n",
            "\n",
            "Iniciando Entrenamiento Validación Cruzada\n",
            "\n",
            " ----\n",
            "80\n",
            "Tiempo total 122.16723322868347 en k-fold 1\n",
            "80\n",
            "Tiempo total 120.3919370174408 en k-fold 2\n",
            "80\n",
            "Tiempo total 122.4920175075531 en k-fold 3\n",
            "80\n",
            "Tiempo total 120.85905456542969 en k-fold 4\n",
            "80\n",
            "Tiempo total 119.83607339859009 en k-fold 5\n",
            "Mean diference train and validation\n",
            "0.022379982055028284\n",
            "Area std train \n",
            "0.06623880937695503\n",
            "Area std test\n",
            "0.09033971891805793\n",
            "Modelo : 6 saltos residuales\n",
            "Número de K-folds: KFold(n_splits=5, random_state=None, shuffle=False)\n",
            "\n",
            "Iniciando Entrenamiento Validación Cruzada\n",
            "\n",
            " ----\n",
            "80\n",
            "Tiempo total 144.61418795585632 en k-fold 1\n",
            "80\n",
            "Tiempo total 142.8398232460022 en k-fold 2\n",
            "80\n",
            "Tiempo total 144.12316751480103 en k-fold 3\n",
            "80\n",
            "Tiempo total 142.6706051826477 en k-fold 4\n",
            "80\n",
            "Tiempo total 145.25453543663025 en k-fold 5\n",
            "Mean diference train and validation\n",
            "0.03025253033479054\n",
            "Area std train \n",
            "0.05386536195874214\n",
            "Area std test\n",
            "0.07810280423993253\n",
            "Modelo : 8 saltos residuales\n",
            "Número de K-folds: KFold(n_splits=5, random_state=None, shuffle=False)\n",
            "\n",
            "Iniciando Entrenamiento Validación Cruzada\n",
            "\n",
            " ----\n",
            "80\n",
            "Tiempo total 163.89475631713867 en k-fold 1\n",
            "80\n",
            "Tiempo total 166.52713131904602 en k-fold 2\n",
            "80\n",
            "Tiempo total 164.96528363227844 en k-fold 3\n",
            "80\n",
            "Tiempo total 164.2988829612732 en k-fold 4\n",
            "80\n",
            "Tiempo total 166.72541785240173 en k-fold 5\n",
            "Mean diference train and validation\n",
            "0.03869627546151479\n",
            "Area std train \n",
            "0.09077930450439453\n",
            "Area std test\n",
            "0.13829926010443094\n"
          ]
        }
      ],
      "source": [
        "skips = [4,6,8]\n",
        "n_epochs = 60\n",
        "resultGeneralL1 = {}\n",
        "\n",
        "for skip in skips:\n",
        "  \n",
        "  optimizer = tf.keras.optimizers.SGD()\n",
        "  ce_loss = tf.keras.losses.CategoricalCrossentropy()\n",
        "  k_index = 0\n",
        "  Kf_eval_train_M0 = {}\n",
        "  Kf_eval_val_M0 = {}\n",
        "  Kf_LB_M0 = {}\n",
        "  Kf_loss = {}\n",
        "  Kf_loss_val = {}\n",
        "  acc_test = []\n",
        "\n",
        "  print(f'Modelo : {skip} saltos residuales')\n",
        "\n",
        "  kf = KFold(n_splits=5, shuffle=False)\n",
        "\n",
        "  print(f'Número de K-folds: {kf}')\n",
        "  print(f'\\nIniciando Entrenamiento Validación Cruzada')\n",
        "  print(f'\\n ----')\n",
        "  timeTotal = []\n",
        "\n",
        "  for train_index, test_index in kf.split(X_train):\n",
        "    timeStart = time.time()\n",
        "    generator = DataGenerator(images=X_train[train_index], \n",
        "                              labels=y_train[train_index], \n",
        "                              batch_size=100, shuffle=True)\n",
        "    n_batches = len(generator)\n",
        "    print(n_batches)\n",
        "    model = load_model(skip,regularParameters[skip])\n",
        "    model.compile(optimizer=optimizer, \n",
        "                  loss = tf.keras.losses.CategoricalCrossentropy(), \n",
        "                  metrics =['accuracy'])\n",
        "    loss_train = np.zeros(shape=(n_epochs,), dtype=np.float32)\n",
        "    acc_train = np.zeros(shape=(n_epochs,), dtype=np.float32)\n",
        "    loss_val = np.zeros(shape=(n_epochs,))\n",
        "    acc_val = np.zeros(shape=(n_epochs,))\n",
        "    LB_1 = np.zeros(shape=(n_epochs,))\n",
        "    for epoch in range(n_epochs):\n",
        "      epoch_loss_avg = tf.keras.metrics.Mean() # Keeping track of the training loss\n",
        "      epoch_acc_avg = tf.keras.metrics.Mean() # Keeping track of the training accuracy\n",
        "      \n",
        "      for batch in range(n_batches):\n",
        "        x, y = generator[batch]\n",
        "        with tf.GradientTape() as tape: # Forward pass\n",
        "          y_ = model(x, training=True)\n",
        "          loss = ce_loss(y_true=keras.utils.to_categorical(y, num_classes=10), y_pred=y_)\n",
        "          loss += tf.add_n(model.losses)\n",
        "        grad = tape.gradient(loss, model.trainable_variables)\n",
        "        optimizer.apply_gradients(zip(grad, model.trainable_variables)) # Update network weights\n",
        "\n",
        "        epoch_loss_avg(loss)\n",
        "        epoch_acc_avg(sklearn.metrics.accuracy_score(y_true=y, y_pred=np.argmax(y_, axis=-1)))\n",
        "      \n",
        "      generator.on_epoch_end()\n",
        "\n",
        "      loss_train[epoch] = epoch_loss_avg.result()\n",
        "      acc_train[epoch] = epoch_acc_avg.result()\n",
        "      \n",
        "      y_ = model.predict(X_train[test_index], verbose=0) # Validation predictions\n",
        "\n",
        "      loss_val[epoch] = ce_loss(y_true= keras.utils.to_categorical(y_train[test_index], num_classes=10), \n",
        "                                y_pred=y_).numpy()\n",
        "      acc_val[epoch] = sklearn.metrics.accuracy_score(y_true=y_train[test_index], \n",
        "                                                      y_pred=np.argmax(y_, axis=-1))\n",
        "      LB_1[epoch] = lipschitz_bound(model.get_weights())\n",
        "\n",
        "    y_test_ = model(X_test)\n",
        "    acc_test.append(sklearn.metrics.accuracy_score(y_true=y_test, \n",
        "                                                      y_pred=np.argmax(y_test_, axis=-1)))\n",
        "\n",
        "    Kf_eval_train_M0[k_index] = acc_train\n",
        "    Kf_eval_val_M0[k_index] = acc_val\n",
        "    Kf_LB_M0[k_index] = LB_1\n",
        "    Kf_loss[k_index] = loss_train\n",
        "    Kf_loss_val[k_index] = loss_val\n",
        "    k_index += 1\n",
        "\n",
        "    timeFinal = time.time()\n",
        "    timeTotal.append(timeFinal - timeStart)\n",
        "    print(f'Tiempo total {timeTotal[k_index-1]} en k-fold {k_index}')\n",
        "  \n",
        "  \n",
        "  epoch_vec = range(1,n_epochs+1)\n",
        "  acc_train_mean_M0 = pd.DataFrame.mean(pd.DataFrame(Kf_eval_train_M0), axis = 1).to_numpy()\n",
        "  acc_train_std_M0 = pd.DataFrame.std(pd.DataFrame(Kf_eval_train_M0), axis = 1).to_numpy()\n",
        "\n",
        "  acc_val_mean_M0 = pd.DataFrame.mean(pd.DataFrame(Kf_eval_val_M0), axis = 1).to_numpy()\n",
        "  acc_val_std_M0 = pd.DataFrame.std(pd.DataFrame(Kf_eval_val_M0), axis = 1).to_numpy()\n",
        "\n",
        "  # Diference train and validation\n",
        "  diff_acc_mean = np.mean(acc_train_mean_M0 - acc_val_mean_M0)\n",
        "  print('Mean diference train and validation')\n",
        "  print(diff_acc_mean)\n",
        "   \n",
        "  acc_std_positive_M0 = acc_train_mean_M0 + acc_train_std_M0\n",
        "  acc_std_negative_M0 = acc_train_mean_M0 - acc_train_std_M0\n",
        "  # Area std train\n",
        "  print('Area std train ')\n",
        "  area_std_train = interpolate.InterpolatedUnivariateSpline(range(n_epochs), acc_train_std_M0, k=1).integral(0,1)\n",
        "  print(area_std_train)\n",
        "\n",
        "  acc_std_positive_val_M0 = acc_val_mean_M0 + acc_val_std_M0\n",
        "  acc_std_negative_val_M0 = acc_val_mean_M0 - acc_val_std_M0\n",
        "  # Area std test\n",
        "  print('Area std test')\n",
        "  area_std_test = interpolate.InterpolatedUnivariateSpline(range(n_epochs), acc_val_std_M0, k=1).integral(0,1)\n",
        "  print(area_std_test)\n",
        "\n",
        "\n",
        "  #graphGridAcc(skip)\n",
        "  #graphAcc(skip)\n",
        "\n",
        "  LB_mean_M0 = pd.DataFrame.mean(pd.DataFrame(Kf_LB_M0), axis = 1).to_numpy()\n",
        "  LB_std_M0 = pd.DataFrame.std(pd.DataFrame(Kf_LB_M0), axis = 1).to_numpy()\n",
        "  LB_std_positive_M0 = LB_mean_M0 + LB_std_M0\n",
        "  LB_std_negative_M0 = LB_mean_M0 - LB_std_M0\n",
        "\n",
        "  #graphGridLipschtiz(skip)\n",
        "  #graphLipschtiz(skip)\n",
        "  #graphGridLipschtizlog(skip)\n",
        "  #graphLipschtizlog(skip)\n",
        "\n",
        "  loss_mean_M0 = pd.DataFrame.mean(pd.DataFrame(Kf_loss), axis = 1).to_numpy()\n",
        "  loss_std_M0 = pd.DataFrame.std(pd.DataFrame(Kf_loss), axis = 1).to_numpy()\n",
        "  loss_std_positive_M0 = loss_mean_M0 + loss_std_M0\n",
        "  loss_std_negative_M0 = loss_mean_M0 - loss_std_M0\n",
        "\n",
        "  loss_mean_M0_val = pd.DataFrame.mean(pd.DataFrame(Kf_loss_val), axis = 1).to_numpy()\n",
        "  loss_std_M0_val = pd.DataFrame.std(pd.DataFrame(Kf_loss_val), axis = 1).to_numpy()\n",
        "  loss_std_positive_M0_val = loss_mean_M0_val + loss_std_M0_val\n",
        "  loss_std_negative_M0_val = loss_mean_M0_val - loss_std_M0_val\n",
        "\n",
        "  #graphGridLoss(skip)\n",
        "  #graphLoss(skip)\n",
        "\n",
        "  resultGeneralL1[skip] = [Kf_eval_train_M0, Kf_eval_val_M0, Kf_loss, Kf_loss_val, Kf_LB_M0, acc_test, timeTotal]\n",
        " \n",
        "pd.DataFrame.to_csv(pd.DataFrame(resultGeneralL1), 'ResultadosExperimentoALBL1.csv')"
      ]
    },
    {
      "cell_type": "markdown",
      "metadata": {
        "id": "NDM7KNCC0R1-"
      },
      "source": [
        "### Evaluación en test de los modelos"
      ]
    },
    {
      "cell_type": "code",
      "execution_count": null,
      "metadata": {
        "id": "TiATDQfy0LRI"
      },
      "outputs": [],
      "source": [
        "for skip in skips:\n",
        "  mean_test = np.mean(resultGeneralL1[skip][5])\n",
        "  std_test = np.std(resultGeneralL1[skip][5])\n",
        "  print(f'Modelo {skip}, test {mean_test*100:0.2f} +/- {std_test*100:0.3f}')"
      ]
    },
    {
      "cell_type": "markdown",
      "metadata": {
        "id": "cYGvF7nL0S5I"
      },
      "source": [
        "### Evaluación en entrenamiento de los modelos"
      ]
    },
    {
      "cell_type": "code",
      "execution_count": null,
      "metadata": {
        "id": "5k6wX1CW0OVb",
        "colab": {
          "base_uri": "https://localhost:8080/"
        },
        "outputId": "2d0a610a-ab8c-4e13-e0c4-043c78c01596"
      },
      "outputs": [
        {
          "output_type": "stream",
          "name": "stdout",
          "text": [
            "Modelo 4, train 97.11 +/- 0.312\n",
            "Modelo 6, train 98.13 +/- 0.388\n",
            "Modelo 8, train 98.05 +/- 0.571\n"
          ]
        }
      ],
      "source": [
        "for skip in skips:\n",
        "  mean_train = np.mean([resultGeneralL1[skip][0][x][-1] for x in resultGeneralL1[skip][0]])\n",
        "  std_train = np.std([resultGeneralL1[skip][0][x][-1] for x in resultGeneralL1[skip][0]])\n",
        "  print(f'Modelo {skip}, train {mean_train*100:0.2f} +/- {std_train*100:0.3f}')"
      ]
    },
    {
      "cell_type": "markdown",
      "metadata": {
        "id": "AGHey-n2Z-qb"
      },
      "source": [
        "## Entrenamiento conjunto de modelos validación cruzada k-fold - Método *Dropout*"
      ]
    },
    {
      "cell_type": "markdown",
      "metadata": {
        "id": "hKu7bXdJnIHA"
      },
      "source": [
        "### Modelo DropOut"
      ]
    },
    {
      "cell_type": "code",
      "execution_count": null,
      "metadata": {
        "id": "tkw_2OsrmQfT"
      },
      "outputs": [],
      "source": [
        "from keras.layers.regularization.dropout import Dropout\n",
        "\n",
        "def skip_conectionDropOut(dense_input, n, regular_l, probabilityDrop):\n",
        "  if n >= 2:\n",
        "    resDense = Dense(20, activation ='relu', kernel_regularizer=regular_l)(dense_input)\n",
        "    resDenseDropOut = Dropout((probabilityDrop))(resDense)\n",
        "    return skip_conection(Add()([dense_input, resDenseDropOut]), n-1, regular_l)\n",
        "  resDenseo = Dense(20, activation ='relu', kernel_regularizer=regular_l)(dense_input)\n",
        "  resDenseoDropOut = Dropout((probabilityDrop))(resDenseo)\n",
        "  return Add()([dense_input, resDenseo])"
      ]
    },
    {
      "cell_type": "code",
      "execution_count": null,
      "metadata": {
        "id": "yNGTXXzIaEq9"
      },
      "outputs": [],
      "source": [
        "def load_modelDropOut(n, regular_l, probabilityDrop):\n",
        "  keras.backend.clear_session()\n",
        "  inputs  = Input(shape=(784,))\n",
        "  dense1  = Dense(20,  activation  ='relu', kernel_regularizer=regular_l)(inputs)\n",
        "  dense1DropOut = Dropout((probabilityDrop))(dense1)\n",
        "  skip_final = skip_conectionDropOut(dense1DropOut, n, regular_l, probabilityDrop)\n",
        "\n",
        "  outputs = Dense(10, activation='sigmoid', kernel_regularizer=regular_l)(skip_final)\n",
        "  return keras.Model(inputs=inputs, outputs=outputs, name='RestNetCustomModelExperimentoA')"
      ]
    },
    {
      "cell_type": "markdown",
      "metadata": {
        "id": "Rq42XxD7nj81"
      },
      "source": [
        "### Sintonización hiper-parámetro"
      ]
    },
    {
      "cell_type": "code",
      "execution_count": null,
      "metadata": {
        "id": "qUdLyPU9nFvA"
      },
      "outputs": [],
      "source": [
        "skips = [4, 6, 8]\n",
        "kf = KFold(n_splits=5, shuffle=False)"
      ]
    },
    {
      "cell_type": "code",
      "execution_count": null,
      "metadata": {
        "id": "SeF_CY5innj3",
        "colab": {
          "base_uri": "https://localhost:8080/"
        },
        "outputId": "d9199f3e-82c0-4058-9398-d1945c6b2db7"
      },
      "outputs": [
        {
          "output_type": "stream",
          "name": "stdout",
          "text": [
            "Modelo 4, parametro 0.2\n",
            "Kfold 1 acc train 0.9427499771118164, acc test 0.902999997138977\n",
            "Kfold 2 acc train 0.9402499794960022, acc test 0.9254999756813049\n",
            "Kfold 3 acc train 0.9388750195503235, acc test 0.9104999899864197\n",
            "Kfold 4 acc train 0.9445000290870667, acc test 0.9160000085830688\n",
            "Kfold 5 acc train 0.9466249942779541, acc test 0.902999997138977\n",
            "Fin modelo: promedio acc train 0.9425999999046326,std 0.00280111614621792\n",
            "Fin modelo: promedio acc test 0.9115999937057495,std 0.008505286825509564\n",
            "\n",
            "\n",
            "Modelo 4, parametro 0.4\n",
            "Kfold 1 acc train 0.9164999723434448, acc test 0.8895000219345093\n",
            "Kfold 2 acc train 0.9128749966621399, acc test 0.9035000205039978\n",
            "Kfold 3 acc train 0.9193750023841858, acc test 0.8960000276565552\n",
            "Kfold 4 acc train 0.9101250171661377, acc test 0.8784999847412109\n",
            "Kfold 5 acc train 0.9338750243186951, acc test 0.8964999914169312\n",
            "Fin modelo: promedio acc train 0.9185500025749207,std 0.008281613506204129\n",
            "Fin modelo: promedio acc test 0.8928000092506408,std 0.008411906370234368\n",
            "\n",
            "\n",
            "Modelo 4, parametro 0.6\n",
            "Kfold 1 acc train 0.859000027179718, acc test 0.8364999890327454\n",
            "Kfold 2 acc train 0.8740000128746033, acc test 0.8709999918937683\n",
            "Kfold 3 acc train 0.8744999766349792, acc test 0.8454999923706055\n",
            "Kfold 4 acc train 0.8949999809265137, acc test 0.8744999766349792\n",
            "Kfold 5 acc train 0.8326249718666077, acc test 0.7929999828338623\n",
            "Fin modelo: promedio acc train 0.8670249938964844,std 0.020663435157192198\n",
            "Fin modelo: promedio acc test 0.8440999865531922,std 0.029389454037157245\n",
            "\n",
            "\n",
            "Modelo 4, parametro 0.8\n",
            "Kfold 1 acc train 0.5289999842643738, acc test 0.5214999914169312\n",
            "Kfold 2 acc train 0.5166249871253967, acc test 0.5059999823570251\n",
            "Kfold 3 acc train 0.6512500047683716, acc test 0.6545000076293945\n",
            "Kfold 4 acc train 0.640500009059906, acc test 0.6225000023841858\n",
            "Kfold 5 acc train 0.4671249985694885, acc test 0.48100000619888306\n",
            "Fin modelo: promedio acc train 0.5608999967575073,std 0.07248575510574991\n",
            "Fin modelo: promedio acc test 0.5570999979972839,std 0.06845977398270396\n",
            "\n",
            "\n",
            "Modelo 6, parametro 0.2\n",
            "Kfold 1 acc train 0.956375002861023, acc test 0.9089999794960022\n",
            "Kfold 2 acc train 0.9466249942779541, acc test 0.9185000061988831\n",
            "Kfold 3 acc train 0.9369999766349792, acc test 0.906499981880188\n",
            "Kfold 4 acc train 0.9350000023841858, acc test 0.8980000019073486\n",
            "Kfold 5 acc train 0.9483749866485596, acc test 0.9010000228881836\n",
            "Fin modelo: promedio acc train 0.9446749925613404,std 0.007834462436579379\n",
            "Fin modelo: promedio acc test 0.9065999984741211,std 0.007109145709372399\n",
            "\n",
            "\n",
            "Modelo 6, parametro 0.4\n",
            "Kfold 1 acc train 0.9291250109672546, acc test 0.8955000042915344\n",
            "Kfold 2 acc train 0.8886250257492065, acc test 0.8684999942779541\n",
            "Kfold 3 acc train 0.9297500252723694, acc test 0.9024999737739563\n",
            "Kfold 4 acc train 0.9077500104904175, acc test 0.8654999732971191\n",
            "Kfold 5 acc train 0.8296250104904175, acc test 0.7919999957084656\n",
            "Fin modelo: promedio acc train 0.8969750165939331,std 0.03695854297668149\n",
            "Fin modelo: promedio acc test 0.8647999882698059,std 0.039186219085738654\n",
            "\n",
            "\n",
            "Modelo 6, parametro 0.6\n",
            "Kfold 1 acc train 0.6866250038146973, acc test 0.6690000295639038\n",
            "Kfold 2 acc train 0.7754999995231628, acc test 0.7714999914169312\n",
            "Kfold 3 acc train 0.7612500190734863, acc test 0.7465000152587891\n",
            "Kfold 4 acc train 0.8981249928474426, acc test 0.8615000247955322\n",
            "Kfold 5 acc train 0.7229999899864197, acc test 0.7059999704360962\n",
            "Fin modelo: promedio acc train 0.7689000010490418,std 0.0716619381468876\n",
            "Fin modelo: promedio acc test 0.7509000062942505,std 0.06542125466413119\n",
            "\n",
            "\n",
            "Modelo 6, parametro 0.8\n",
            "Kfold 1 acc train 0.31562501192092896, acc test 0.3005000054836273\n",
            "Kfold 2 acc train 0.5444999933242798, acc test 0.5540000200271606\n",
            "Kfold 3 acc train 0.22050000727176666, acc test 0.21899999678134918\n",
            "Kfold 4 acc train 0.3058750033378601, acc test 0.2930000126361847\n",
            "Kfold 5 acc train 0.30912500619888306, acc test 0.3095000088214874\n",
            "Fin modelo: promedio acc train 0.3391250044107437,std 0.10845145285199008\n",
            "Fin modelo: promedio acc test 0.33520000874996186,std 0.11403622899010477\n",
            "\n",
            "\n",
            "Modelo 8, parametro 0.2\n",
            "Kfold 1 acc train 0.9428750276565552, acc test 0.9004999995231628\n",
            "Kfold 2 acc train 0.9362499713897705, acc test 0.9154999852180481\n",
            "Kfold 3 acc train 0.9147499799728394, acc test 0.8934999704360962\n",
            "Kfold 4 acc train 0.9319999814033508, acc test 0.8794999718666077\n",
            "Kfold 5 acc train 0.953249990940094, acc test 0.906000018119812\n",
            "Fin modelo: promedio acc train 0.935824990272522,std 0.012745987888838866\n",
            "Fin modelo: promedio acc test 0.8989999890327454,std 0.012116114780318796\n",
            "\n",
            "\n",
            "Modelo 8, parametro 0.4\n",
            "Kfold 1 acc train 0.8867499828338623, acc test 0.8299999833106995\n",
            "Kfold 2 acc train 0.8947499990463257, acc test 0.8930000066757202\n",
            "Kfold 3 acc train 0.8452500104904175, acc test 0.8274999856948853\n",
            "Kfold 4 acc train 0.7796249985694885, acc test 0.7450000047683716\n",
            "Kfold 5 acc train 0.9007499814033508, acc test 0.859499990940094\n",
            "Fin modelo: promedio acc train 0.8614249944686889,std 0.0452796532650451\n",
            "Fin modelo: promedio acc test 0.8309999942779541,std 0.04912331345650378\n",
            "\n",
            "\n",
            "Modelo 8, parametro 0.6\n",
            "Kfold 1 acc train 0.41087499260902405, acc test 0.3790000081062317\n",
            "Kfold 2 acc train 0.6240000128746033, acc test 0.6119999885559082\n",
            "Kfold 3 acc train 0.8429999947547913, acc test 0.8224999904632568\n",
            "Kfold 4 acc train 0.656000018119812, acc test 0.6230000257492065\n",
            "Kfold 5 acc train 0.5565000176429749, acc test 0.5485000014305115\n",
            "Fin modelo: promedio acc train 0.6180750072002411,std 0.14056172135932554\n",
            "Fin modelo: promedio acc test 0.597000002861023,std 0.14256752296472652\n",
            "\n",
            "\n",
            "Modelo 8, parametro 0.8\n",
            "Kfold 1 acc train 0.21449999511241913, acc test 0.2150000035762787\n",
            "Kfold 2 acc train 0.25462499260902405, acc test 0.25850000977516174\n",
            "Kfold 3 acc train 0.33512499928474426, acc test 0.3269999921321869\n",
            "Kfold 4 acc train 0.39800000190734863, acc test 0.3995000123977661\n",
            "Kfold 5 acc train 0.24962499737739563, acc test 0.23600000143051147\n",
            "Fin modelo: promedio acc train 0.29037499725818633,std 0.06675529279454759\n",
            "Fin modelo: promedio acc test 0.287200003862381,std 0.06760665785892288\n",
            "\n",
            "\n"
          ]
        }
      ],
      "source": [
        "param_grid = [ 0.2, 0.4, 0.6, 0.8]\n",
        "for skip in skips:\n",
        "  for param in param_grid:\n",
        "    print(f'Modelo {skip}, parametro {param}')\n",
        "    i = 0\n",
        "    acc_train = []\n",
        "    acc_test = []\n",
        "    for train_index, test_index in kf.split(X_train): \n",
        "      model = load_modelDropOut(skip, l.l2(0), param)\n",
        "      model.compile(loss='categorical_crossentropy',\n",
        "                  optimizer='SGD', \n",
        "                  metrics=['accuracy'])\n",
        "      model.fit(X_train[train_index], \n",
        "                y_train_onehot[train_index],\n",
        "                epochs = 20, verbose = 0)\n",
        "      acc_train.append(model.evaluate(X_train[train_index], y_train_onehot[train_index],verbose = 0)[1])\n",
        "      acc_test.append(model.evaluate(X_train[test_index], y_train_onehot[test_index], verbose = 0)[1])\n",
        "      print(f'Kfold {i+1} acc train {acc_train[i]}, acc test {acc_test[i]}')\n",
        "      i+=1\n",
        "    print(f'Fin modelo: promedio acc train {np.mean(acc_train)},std {np.std(acc_train)}')\n",
        "    print(f'Fin modelo: promedio acc test {np.mean(acc_test)},std {np.std(acc_test)}')\n",
        "    print('\\n')"
      ]
    },
    {
      "cell_type": "code",
      "execution_count": null,
      "metadata": {
        "id": "WyFso-o-qQpc",
        "colab": {
          "base_uri": "https://localhost:8080/"
        },
        "outputId": "80a7a555-3543-4c98-e2eb-a98760e9b466"
      },
      "outputs": [
        {
          "output_type": "execute_result",
          "data": {
            "text/plain": [
              "{4: 0.2, 6: 0.2, 8: 0.2}"
            ]
          },
          "metadata": {},
          "execution_count": 40
        }
      ],
      "source": [
        "regularParameters = {4: 0.2, 6: 0.2, 8: 0.2}\n",
        "regularParameters"
      ]
    },
    {
      "cell_type": "markdown",
      "metadata": {
        "id": "sT9fR0fnp1r4"
      },
      "source": [
        "### Entrenamiento"
      ]
    },
    {
      "cell_type": "code",
      "execution_count": null,
      "metadata": {
        "id": "NaqHy4iOp5PF",
        "colab": {
          "base_uri": "https://localhost:8080/"
        },
        "outputId": "32e281bb-cf99-46be-e655-fa6eb7ffe259"
      },
      "outputs": [
        {
          "output_type": "stream",
          "name": "stdout",
          "text": [
            "Modelo : 4 saltos residuales\n",
            "Número de K-folds: KFold(n_splits=5, random_state=None, shuffle=False)\n",
            "\n",
            "Iniciando Entrenamiento Validación Cruzada\n",
            "\n",
            " ----\n",
            "80\n",
            "Tiempo total 102.79353904724121 en k-fold 1\n",
            "80\n",
            "Tiempo total 100.35266375541687 en k-fold 2\n",
            "80\n",
            "Tiempo total 101.3230848312378 en k-fold 3\n",
            "80\n",
            "Tiempo total 101.50817537307739 en k-fold 4\n",
            "80\n",
            "Tiempo total 100.7579984664917 en k-fold 5\n",
            "Mean diference train and validation\n",
            "-0.05484332037528357\n",
            "Area std train \n",
            "0.08647476509213448\n",
            "Area std test\n",
            "0.1568409768354347\n",
            "Modelo : 6 saltos residuales\n",
            "Número de K-folds: KFold(n_splits=5, random_state=None, shuffle=False)\n",
            "\n",
            "Iniciando Entrenamiento Validación Cruzada\n",
            "\n",
            " ----\n",
            "80\n",
            "Tiempo total 116.26418566703796 en k-fold 1\n",
            "80\n",
            "Tiempo total 112.10004830360413 en k-fold 2\n",
            "80\n",
            "Tiempo total 114.2135362625122 en k-fold 3\n",
            "80\n",
            "Tiempo total 116.20703864097595 en k-fold 4\n",
            "80\n",
            "Tiempo total 113.7536871433258 en k-fold 5\n",
            "Mean diference train and validation\n",
            "-0.048452065682808555\n",
            "Area std train \n",
            "0.03217911906540394\n",
            "Area std test\n",
            "0.03697320236418199\n",
            "Modelo : 8 saltos residuales\n",
            "Número de K-folds: KFold(n_splits=5, random_state=None, shuffle=False)\n",
            "\n",
            "Iniciando Entrenamiento Validación Cruzada\n",
            "\n",
            " ----\n",
            "80\n",
            "Tiempo total 127.71967339515686 en k-fold 1\n",
            "80\n",
            "Tiempo total 127.24855375289917 en k-fold 2\n",
            "80\n",
            "Tiempo total 129.12887167930603 en k-fold 3\n",
            "80\n",
            "Tiempo total 127.11032128334045 en k-fold 4\n",
            "80\n",
            "Tiempo total 127.14722037315369 en k-fold 5\n",
            "Mean diference train and validation\n",
            "-0.05613374545772867\n",
            "Area std train \n",
            "0.05168053135275841\n",
            "Area std test\n",
            "0.07164136159201535\n"
          ]
        }
      ],
      "source": [
        "skips = [4,6,8]\n",
        "n_epochs = 60\n",
        "resultGeneralDO = {}\n",
        "\n",
        "for skip in skips:\n",
        "  \n",
        "  optimizer = tf.keras.optimizers.SGD()\n",
        "  ce_loss = tf.keras.losses.CategoricalCrossentropy()\n",
        "  k_index = 0\n",
        "  Kf_eval_train_M0 = {}\n",
        "  Kf_eval_val_M0 = {}\n",
        "  Kf_LB_M0 = {}\n",
        "  Kf_loss = {}\n",
        "  Kf_loss_val = {}\n",
        "  acc_test = []\n",
        "\n",
        "  print(f'Modelo : {skip} saltos residuales')\n",
        "\n",
        "  kf = KFold(n_splits=5, shuffle=False)\n",
        "\n",
        "  print(f'Número de K-folds: {kf}')\n",
        "  print(f'\\nIniciando Entrenamiento Validación Cruzada')\n",
        "  print(f'\\n ----')\n",
        "  timeTotal = []\n",
        "\n",
        "  for train_index, test_index in kf.split(X_train):\n",
        "    timeStart = time.time()\n",
        "    generator = DataGenerator(images=X_train[train_index], \n",
        "                              labels=y_train[train_index], \n",
        "                              batch_size=100, shuffle=True)\n",
        "    n_batches = len(generator)\n",
        "    print(n_batches)\n",
        "    model = load_modelDropOut(skip,l.l2(0),regularParameters[skip])\n",
        "    model.compile(optimizer=optimizer, \n",
        "                  loss = tf.keras.losses.CategoricalCrossentropy(), \n",
        "                  metrics =['accuracy'])\n",
        "    loss_train = np.zeros(shape=(n_epochs,), dtype=np.float32)\n",
        "    acc_train = np.zeros(shape=(n_epochs,), dtype=np.float32)\n",
        "    loss_val = np.zeros(shape=(n_epochs,))\n",
        "    acc_val = np.zeros(shape=(n_epochs,))\n",
        "    LB_1 = np.zeros(shape=(n_epochs,))\n",
        "    for epoch in range(n_epochs):\n",
        "      epoch_loss_avg = tf.keras.metrics.Mean() # Keeping track of the training loss\n",
        "      epoch_acc_avg = tf.keras.metrics.Mean() # Keeping track of the training accuracy\n",
        "      \n",
        "      for batch in range(n_batches):\n",
        "        x, y = generator[batch]\n",
        "        \n",
        "        with tf.GradientTape() as tape: # Forward pass\n",
        "          y_ = model(x, training=True)\n",
        "          loss = ce_loss(y_true=keras.utils.to_categorical(y, num_classes=10), y_pred=y_)\n",
        "        \n",
        "        grad = tape.gradient(loss, model.trainable_variables)\n",
        "        optimizer.apply_gradients(zip(grad, model.trainable_variables)) # Update network weights\n",
        "\n",
        "        epoch_loss_avg(loss)\n",
        "        epoch_acc_avg(sklearn.metrics.accuracy_score(y_true=y, y_pred=np.argmax(y_, axis=-1)))\n",
        "      \n",
        "      generator.on_epoch_end()\n",
        "\n",
        "      loss_train[epoch] = epoch_loss_avg.result()\n",
        "      acc_train[epoch] = epoch_acc_avg.result()\n",
        "      \n",
        "      y_ = model.predict(X_train[test_index], verbose=0) # Validation predictions\n",
        "\n",
        "      loss_val[epoch] = ce_loss(y_true= keras.utils.to_categorical(y_train[test_index], num_classes=10), \n",
        "                                y_pred=y_).numpy()\n",
        "      acc_val[epoch] = sklearn.metrics.accuracy_score(y_true=y_train[test_index], \n",
        "                                                      y_pred=np.argmax(y_, axis=-1))\n",
        "      LB_1[epoch] = lipschitz_bound(model.get_weights())\n",
        "\n",
        "    y_test_ = model(X_test)\n",
        "    acc_test.append(sklearn.metrics.accuracy_score(y_true=y_test, \n",
        "                                                      y_pred=np.argmax(y_test_, axis=-1)))\n",
        "\n",
        "    Kf_eval_train_M0[k_index] = acc_train\n",
        "    Kf_eval_val_M0[k_index] = acc_val\n",
        "    Kf_LB_M0[k_index] = LB_1\n",
        "    Kf_loss[k_index] = loss_train\n",
        "    Kf_loss_val[k_index] = loss_val\n",
        "    k_index += 1\n",
        "\n",
        "    timeFinal = time.time()\n",
        "    timeTotal.append(timeFinal - timeStart)\n",
        "    print(f'Tiempo total {timeTotal[k_index-1]} en k-fold {k_index}')\n",
        "  \n",
        "  \n",
        "  epoch_vec = range(1,n_epochs+1)\n",
        "  acc_train_mean_M0 = pd.DataFrame.mean(pd.DataFrame(Kf_eval_train_M0), axis = 1).to_numpy()\n",
        "  acc_train_std_M0 = pd.DataFrame.std(pd.DataFrame(Kf_eval_train_M0), axis = 1).to_numpy()\n",
        "\n",
        "  acc_val_mean_M0 = pd.DataFrame.mean(pd.DataFrame(Kf_eval_val_M0), axis = 1).to_numpy()\n",
        "  acc_val_std_M0 = pd.DataFrame.std(pd.DataFrame(Kf_eval_val_M0), axis = 1).to_numpy()\n",
        "\n",
        "  # Diference train and validation\n",
        "  diff_acc_mean = np.mean(acc_train_mean_M0 - acc_val_mean_M0)\n",
        "  print('Mean diference train and validation')\n",
        "  print(diff_acc_mean)\n",
        "   \n",
        "  acc_std_positive_M0 = acc_train_mean_M0 + acc_train_std_M0\n",
        "  acc_std_negative_M0 = acc_train_mean_M0 - acc_train_std_M0\n",
        "  # Area std train\n",
        "  print('Area std train ')\n",
        "  area_std_train = interpolate.InterpolatedUnivariateSpline(range(n_epochs), acc_train_std_M0, k=1).integral(0,1)\n",
        "  print(area_std_train)\n",
        "\n",
        "  acc_std_positive_val_M0 = acc_val_mean_M0 + acc_val_std_M0\n",
        "  acc_std_negative_val_M0 = acc_val_mean_M0 - acc_val_std_M0\n",
        "  # Area std test\n",
        "  print('Area std test')\n",
        "  area_std_test = interpolate.InterpolatedUnivariateSpline(range(n_epochs), acc_val_std_M0, k=1).integral(0,1)\n",
        "  print(area_std_test)\n",
        "\n",
        "\n",
        "  #graphGridAcc(skip)\n",
        "  #graphAcc(skip)\n",
        "\n",
        "  LB_mean_M0 = pd.DataFrame.mean(pd.DataFrame(Kf_LB_M0), axis = 1).to_numpy()\n",
        "  LB_std_M0 = pd.DataFrame.std(pd.DataFrame(Kf_LB_M0), axis = 1).to_numpy()\n",
        "  LB_std_positive_M0 = LB_mean_M0 + LB_std_M0\n",
        "  LB_std_negative_M0 = LB_mean_M0 - LB_std_M0\n",
        "\n",
        "  #graphGridLipschtiz(skip)\n",
        "  #graphLipschtiz(skip)\n",
        "  #graphGridLipschtizlog(skip)\n",
        "  #graphLipschtizlog(skip)\n",
        "\n",
        "  loss_mean_M0 = pd.DataFrame.mean(pd.DataFrame(Kf_loss), axis = 1).to_numpy()\n",
        "  loss_std_M0 = pd.DataFrame.std(pd.DataFrame(Kf_loss), axis = 1).to_numpy()\n",
        "  loss_std_positive_M0 = loss_mean_M0 + loss_std_M0\n",
        "  loss_std_negative_M0 = loss_mean_M0 - loss_std_M0\n",
        "\n",
        "  loss_mean_M0_val = pd.DataFrame.mean(pd.DataFrame(Kf_loss_val), axis = 1).to_numpy()\n",
        "  loss_std_M0_val = pd.DataFrame.std(pd.DataFrame(Kf_loss_val), axis = 1).to_numpy()\n",
        "  loss_std_positive_M0_val = loss_mean_M0_val + loss_std_M0_val\n",
        "  loss_std_negative_M0_val = loss_mean_M0_val - loss_std_M0_val\n",
        "\n",
        "  #graphGridLoss(skip)\n",
        "  #graphLoss(skip)\n",
        "\n",
        "  resultGeneralDO[skip] = [Kf_eval_train_M0, Kf_eval_val_M0, Kf_loss, Kf_loss_val, Kf_LB_M0, acc_test, timeTotal]\n",
        " \n",
        "pd.DataFrame.to_csv(pd.DataFrame(resultGeneralDO), 'ResultadosExperimentoALBDO.csv')"
      ]
    },
    {
      "cell_type": "markdown",
      "metadata": {
        "id": "Uyr3Xcu-sZyt"
      },
      "source": [
        "### Evaluación en test de los modelos"
      ]
    },
    {
      "cell_type": "code",
      "execution_count": null,
      "metadata": {
        "id": "RGK-Cg_gsZAa",
        "colab": {
          "base_uri": "https://localhost:8080/"
        },
        "outputId": "fb225f90-9349-4b05-9d13-bccb884f6088"
      },
      "outputs": [
        {
          "metadata": {
            "tags": null
          },
          "name": "stdout",
          "output_type": "stream",
          "text": [
            "Modelo 4, test 91.22 +/- 0.213\n",
            "Modelo 6, test 90.65 +/- 0.142\n",
            "Modelo 8, test 90.07 +/- 0.624\n"
          ]
        }
      ],
      "source": [
        "for skip in skips:\n",
        "  mean_test = np.mean(resultGeneralDO[skip][5])\n",
        "  std_test = np.std(resultGeneralDO[skip][5])\n",
        "  print(f'Modelo {skip}, test {mean_test*100:0.2f} +/- {std_test*100:0.3f}')"
      ]
    },
    {
      "cell_type": "markdown",
      "metadata": {
        "id": "JVpUsXpDsdzU"
      },
      "source": [
        "### Evaluación en entrenamiento de los modelos"
      ]
    },
    {
      "cell_type": "code",
      "execution_count": null,
      "metadata": {
        "id": "7k5l69YAsg6o",
        "colab": {
          "base_uri": "https://localhost:8080/"
        },
        "outputId": "d43b4888-0c74-46e4-9269-70507d3d2c79"
      },
      "outputs": [
        {
          "output_type": "stream",
          "name": "stdout",
          "text": [
            "Modelo 4, train 89.68 +/- 0.243\n",
            "Modelo 6, train 89.33 +/- 0.590\n",
            "Modelo 8, train 87.81 +/- 0.539\n"
          ]
        }
      ],
      "source": [
        "for skip in skips:\n",
        "  mean_train = np.mean([resultGeneralDO[skip][0][x][-1] for x in resultGeneralDO[skip][0]])\n",
        "  std_train = np.std([resultGeneralDO[skip][0][x][-1] for x in resultGeneralDO[skip][0]])\n",
        "  print(f'Modelo {skip}, train {mean_train*100:0.2f} +/- {std_train*100:0.3f}')"
      ]
    },
    {
      "cell_type": "markdown",
      "metadata": {
        "id": "N9hLeArxA77L"
      },
      "source": [
        "## Graficas conjuntas"
      ]
    },
    {
      "cell_type": "code",
      "execution_count": null,
      "metadata": {
        "id": "mJb748LXEqjX"
      },
      "outputs": [],
      "source": [
        "import matplotlib as mpl\n",
        "label_size = 20\n",
        "mpl.rcParams['xtick.labelsize'] = label_size \n",
        "mpl.rcParams['ytick.labelsize'] = label_size"
      ]
    },
    {
      "cell_type": "code",
      "execution_count": null,
      "metadata": {
        "id": "uvaoSRxqA9_z",
        "colab": {
          "base_uri": "https://localhost:8080/",
          "height": 992
        },
        "outputId": "bb29351b-3a73-4e8b-9c95-67b76e1b2106"
      },
      "outputs": [
        {
          "output_type": "display_data",
          "data": {
            "text/plain": [
              "<Figure size 1080x1440 with 12 Axes>"
            ],
            "image/png": "[encoded data removed]"
          },
          "metadata": {
            "needs_background": "light"
          }
        }
      ],
      "source": [
        "n_epochs = 60\n",
        "fig, ax = plt.subplots(nrows=4, ncols=3, \n",
        "                       sharex=True, sharey=True, \n",
        "                       figsize=(15, 20))\n",
        "\n",
        "for i in range(4):\n",
        "  for j in range(3):\n",
        "    ax[i][j].set_xticks(np.arange(0, n_epochs+1, step=10))\n",
        "    \n",
        "for axis, skip in zip(ax[0],[4, 6, 8]): # LB\n",
        "  \n",
        "  Kf_eval_train_M0 = resultGeneral[skip][0] \n",
        "  Kf_eval_val_M0 = resultGeneral[skip][1] \n",
        "  \n",
        "  epoch_vec = range(1,n_epochs+1)\n",
        "  acc_train_mean_M0 = pd.DataFrame.mean(pd.DataFrame(Kf_eval_train_M0), axis = 1).to_numpy()\n",
        "  acc_train_std_M0 = pd.DataFrame.std(pd.DataFrame(Kf_eval_train_M0), axis = 1).to_numpy()\n",
        "\n",
        "  acc_val_mean_M0 = pd.DataFrame.mean(pd.DataFrame(Kf_eval_val_M0), axis = 1).to_numpy()\n",
        "  acc_val_std_M0 = pd.DataFrame.std(pd.DataFrame(Kf_eval_val_M0), axis = 1).to_numpy()\n",
        "\n",
        "  acc_std_positive_M0 = acc_train_mean_M0 + acc_train_std_M0\n",
        "  acc_std_negative_M0 = acc_train_mean_M0 - acc_train_std_M0\n",
        "\n",
        "  acc_std_positive_val_M0 = acc_val_mean_M0 + acc_val_std_M0\n",
        "  acc_std_negative_val_M0 = acc_val_mean_M0 - acc_val_std_M0\n",
        "\n",
        "  axis.plot(epoch_vec, acc_train_mean_M0, '#5271ff', linestyle = \"-\",\n",
        "           label='Training Accuracy', lw = 3)\n",
        "  axis.plot(epoch_vec, acc_val_mean_M0,  '#ff5271', \n",
        "          label='Validation Accuracy', linestyle = '-', lw = 3)\n",
        "  axis.fill_between(epoch_vec, acc_std_positive_M0, acc_std_negative_M0, \n",
        "                  label = r'$\\sigma$ Training Accuracy',\n",
        "                alpha=0.2, color = '#5271ff')\n",
        "  axis.fill_between(epoch_vec, acc_std_positive_val_M0, acc_std_negative_val_M0, \n",
        "                  label = r'$\\sigma$ Validation Accuracy',\n",
        "                alpha=0.2, color = '#ff5271')\n",
        "  axis.grid()\n",
        "  #axis.xlim([1, n_epochs])\n",
        "  #axis.ylim(top=1)\n",
        "\n",
        "for axis, skip in zip(ax[1],[4, 6, 8]): # L2\n",
        "  \n",
        "  Kf_eval_train_M0 = resultGeneralL2[skip][0] \n",
        "  Kf_eval_val_M0 = resultGeneralL2[skip][1] \n",
        "  \n",
        "  epoch_vec = range(1,n_epochs+1)\n",
        "  acc_train_mean_M0 = pd.DataFrame.mean(pd.DataFrame(Kf_eval_train_M0), axis = 1).to_numpy()\n",
        "  acc_train_std_M0 = pd.DataFrame.std(pd.DataFrame(Kf_eval_train_M0), axis = 1).to_numpy()\n",
        "\n",
        "  acc_val_mean_M0 = pd.DataFrame.mean(pd.DataFrame(Kf_eval_val_M0), axis = 1).to_numpy()\n",
        "  acc_val_std_M0 = pd.DataFrame.std(pd.DataFrame(Kf_eval_val_M0), axis = 1).to_numpy()\n",
        "\n",
        "  acc_std_positive_M0 = acc_train_mean_M0 + acc_train_std_M0\n",
        "  acc_std_negative_M0 = acc_train_mean_M0 - acc_train_std_M0\n",
        "\n",
        "  acc_std_positive_val_M0 = acc_val_mean_M0 + acc_val_std_M0\n",
        "  acc_std_negative_val_M0 = acc_val_mean_M0 - acc_val_std_M0\n",
        "\n",
        "  axis.plot(epoch_vec, acc_train_mean_M0, '#5271ff', linestyle = \"-\",\n",
        "           label='Training Accuracy', lw = 3)\n",
        "  axis.plot(epoch_vec, acc_val_mean_M0,  '#ff5271', \n",
        "          label='Validation Accuracy', linestyle = '-', lw = 3)\n",
        "  axis.fill_between(epoch_vec, acc_std_positive_M0, acc_std_negative_M0, \n",
        "                  label = r'$\\sigma$ Training Accuracy',\n",
        "                alpha=0.2, color = '#5271ff')\n",
        "  axis.fill_between(epoch_vec, acc_std_positive_val_M0, acc_std_negative_val_M0, \n",
        "                  label = r'$\\sigma$ Validation Accuracy',\n",
        "                alpha=0.2, color = '#ff5271')\n",
        "  axis.grid()\n",
        "  #axis.xlim([1, n_epochs])\n",
        "  #axis.ylim(top=1)\n",
        "\n",
        "for axis, skip in zip(ax[2],[4, 6, 8]): # L1\n",
        "  \n",
        "  Kf_eval_train_M0 = resultGeneralL1[skip][0] \n",
        "  Kf_eval_val_M0 = resultGeneralL1[skip][1] \n",
        "  \n",
        "  epoch_vec = range(1,n_epochs+1)\n",
        "  acc_train_mean_M0 = pd.DataFrame.mean(pd.DataFrame(Kf_eval_train_M0), axis = 1).to_numpy()\n",
        "  acc_train_std_M0 = pd.DataFrame.std(pd.DataFrame(Kf_eval_train_M0), axis = 1).to_numpy()\n",
        "\n",
        "  acc_val_mean_M0 = pd.DataFrame.mean(pd.DataFrame(Kf_eval_val_M0), axis = 1).to_numpy()\n",
        "  acc_val_std_M0 = pd.DataFrame.std(pd.DataFrame(Kf_eval_val_M0), axis = 1).to_numpy()\n",
        "\n",
        "  acc_std_positive_M0 = acc_train_mean_M0 + acc_train_std_M0\n",
        "  acc_std_negative_M0 = acc_train_mean_M0 - acc_train_std_M0\n",
        "\n",
        "  acc_std_positive_val_M0 = acc_val_mean_M0 + acc_val_std_M0\n",
        "  acc_std_negative_val_M0 = acc_val_mean_M0 - acc_val_std_M0\n",
        "\n",
        "  axis.plot(epoch_vec, acc_train_mean_M0, '#5271ff', linestyle = \"-\",\n",
        "           label='Training Accuracy', lw = 3)\n",
        "  axis.plot(epoch_vec, acc_val_mean_M0,  '#ff5271', \n",
        "          label='Validation Accuracy', linestyle = '-', lw = 3)\n",
        "  axis.fill_between(epoch_vec, acc_std_positive_M0, acc_std_negative_M0, \n",
        "                  label = r'$\\sigma$ Training Accuracy',\n",
        "                alpha=0.2, color = '#5271ff')\n",
        "  axis.fill_between(epoch_vec, acc_std_positive_val_M0, acc_std_negative_val_M0, \n",
        "                  label = r'$\\sigma$ Validation Accuracy',\n",
        "                alpha=0.2, color = '#ff5271')\n",
        "  axis.grid()\n",
        "  #axis.xlim([1, n_epochs])\n",
        "  #axis.ylim(top=1)\n",
        "\n",
        "for axis, skip in zip(ax[3],[4, 6, 8]): # DO\n",
        "  \n",
        "  Kf_eval_train_M0 = resultGeneralDO[skip][0] \n",
        "  Kf_eval_val_M0 = resultGeneralDO[skip][1] \n",
        "  \n",
        "  epoch_vec = range(1,n_epochs+1)\n",
        "  acc_train_mean_M0 = pd.DataFrame.mean(pd.DataFrame(Kf_eval_train_M0), axis = 1).to_numpy()\n",
        "  acc_train_std_M0 = pd.DataFrame.std(pd.DataFrame(Kf_eval_train_M0), axis = 1).to_numpy()\n",
        "\n",
        "  acc_val_mean_M0 = pd.DataFrame.mean(pd.DataFrame(Kf_eval_val_M0), axis = 1).to_numpy()\n",
        "  acc_val_std_M0 = pd.DataFrame.std(pd.DataFrame(Kf_eval_val_M0), axis = 1).to_numpy()\n",
        "\n",
        "  acc_std_positive_M0 = acc_train_mean_M0 + acc_train_std_M0\n",
        "  acc_std_negative_M0 = acc_train_mean_M0 - acc_train_std_M0\n",
        "\n",
        "  acc_std_positive_val_M0 = acc_val_mean_M0 + acc_val_std_M0\n",
        "  acc_std_negative_val_M0 = acc_val_mean_M0 - acc_val_std_M0\n",
        "\n",
        "  axis.plot(epoch_vec, acc_train_mean_M0, '#5271ff', linestyle = \"-\",\n",
        "           label='Training Accuracy', lw = 3)\n",
        "  axis.plot(epoch_vec, acc_val_mean_M0,  '#ff5271', \n",
        "          label='Validation Accuracy', linestyle = '-',lw = 3)\n",
        "  axis.fill_between(epoch_vec, acc_std_positive_M0, acc_std_negative_M0, \n",
        "                  label = r'$\\sigma$ Training Accuracy',\n",
        "                alpha=0.2, color = '#5271ff')\n",
        "  axis.fill_between(epoch_vec, acc_std_positive_val_M0, acc_std_negative_val_M0, \n",
        "                  label = r'$\\sigma$ Validation Accuracy',\n",
        "                alpha=0.2, color = '#ff5271')\n",
        "  axis.grid()\n",
        "  #axis.xlim([1, n_epochs])\n",
        "  #axis.ylim(top=1)\n",
        "\n",
        "for axis, col in zip(ax[0], ['Model 4', 'Model 6', 'Model 8']):\n",
        "    axis.set_title(col, fontsize=20)\n",
        "\n",
        "for axis in ax[3]:\n",
        "  axis.set_xlabel('Epoch', fontsize = 20)\n",
        "\n",
        "for axis in ax[:,0]:\n",
        "  axis.set_ylabel('Accuracy', fontsize = 20)\n",
        "\n",
        "for axis, row in zip(ax[:,2], ['LBA', 'L2', 'L1', 'Dropout']):\n",
        "    axis.set_ylabel(row, rotation=90, fontsize=20)\n",
        "    axis.yaxis.set_label_position(\"right\")\n",
        "    axis.yaxis.tick_right()\n",
        "    axis = plt.gca()\n",
        "    axis.yaxis.set_major_formatter(FormatStrFormatter('%.1f'))\n",
        "plt.tight_layout()\n",
        "plt.savefig('AccEA.pdf') "
      ]
    },
    {
      "cell_type": "code",
      "execution_count": null,
      "metadata": {
        "id": "dLfE3giyhrW3",
        "colab": {
          "base_uri": "https://localhost:8080/",
          "height": 992
        },
        "outputId": "69218a09-2bbc-46a3-e3de-1c66f1a9c163"
      },
      "outputs": [
        {
          "output_type": "display_data",
          "data": {
            "text/plain": [
              "<Figure size 1080x1440 with 12 Axes>"
            ],
            "image/png": "[encoded data removed]"
          },
          "metadata": {
            "needs_background": "light"
          }
        }
      ],
      "source": [
        "n_epochs = 60\n",
        "fig, ax = plt.subplots(nrows=4, ncols=3, \n",
        "                       sharex=True, sharey=True, \n",
        "                       figsize=(15, 20))\n",
        "\n",
        "for i in range(4):\n",
        "  for j in range(3):\n",
        "    ax[i][j].set_xticks(np.arange(0, n_epochs+1, step=10))\n",
        "    \n",
        "for axis, skip in zip(ax[0],[4, 6, 8]): # LB\n",
        "  \n",
        "  Kf_LB_M0 = resultGeneral[skip][4] \n",
        "  \n",
        "  epoch_vec = range(1,n_epochs+1)\n",
        "  LB_mean_M0 = pd.DataFrame.mean(pd.DataFrame(Kf_LB_M0), axis = 1).to_numpy()\n",
        "  LB_std_M0 = pd.DataFrame.std(pd.DataFrame(Kf_LB_M0), axis = 1).to_numpy()\n",
        "  LB_std_positive_M0 = LB_mean_M0 + LB_std_M0\n",
        "  LB_std_negative_M0 = LB_mean_M0 - LB_std_M0\n",
        "\n",
        "  axis.plot(epoch_vec, (LB_mean_M0), '#5271ff', linestyle = \"-\", marker = \"o\",\n",
        "           label='Lipschitz Bound', lw = 3)\n",
        "  axis.fill_between(epoch_vec, (LB_std_positive_M0),\n",
        "                    (LB_std_negative_M0), \n",
        "                   alpha=0.2, color = '#5271ff',\n",
        "                  label = r'$\\sigma$ Lipschitz Bound')\n",
        "\n",
        "  axis.grid()\n",
        "  #axis.xlim([1, n_epochs])\n",
        "  #axis.ylim(top=1)\n",
        "\n",
        "for axis, skip in zip(ax[1],[4, 6, 8]): # L2\n",
        "  \n",
        "  Kf_LB_M0 = resultGeneralL2[skip][4] \n",
        "  \n",
        "  epoch_vec = range(1,n_epochs+1)\n",
        "  LB_mean_M0 = pd.DataFrame.mean(pd.DataFrame(Kf_LB_M0), axis = 1).to_numpy()\n",
        "  LB_std_M0 = pd.DataFrame.std(pd.DataFrame(Kf_LB_M0), axis = 1).to_numpy()\n",
        "  LB_std_positive_M0 = LB_mean_M0 + LB_std_M0\n",
        "  LB_std_negative_M0 = LB_mean_M0 - LB_std_M0\n",
        "\n",
        "  axis.plot(epoch_vec, (LB_mean_M0), '#5271ff', linestyle = \"-\", marker = \"o\",\n",
        "           label='Lipschitz Bound', lw = 3)\n",
        "  axis.fill_between(epoch_vec, (LB_std_positive_M0),\n",
        "                    (LB_std_negative_M0), \n",
        "                   alpha=0.2, color = '#5271ff',\n",
        "                  label = r'$\\sigma$ Lipschitz Bound')\n",
        "  axis.grid()\n",
        "  #axis.xlim([1, n_epochs])\n",
        "  #axis.ylim(top=1)\n",
        "\n",
        "for axis, skip in zip(ax[2],[4, 6, 8]): # L1\n",
        "  \n",
        "  Kf_LB_M0 = resultGeneralL1[skip][4] \n",
        "  \n",
        "  epoch_vec = range(1,n_epochs+1)\n",
        "  LB_mean_M0 = pd.DataFrame.mean(pd.DataFrame(Kf_LB_M0), axis = 1).to_numpy()\n",
        "  LB_std_M0 = pd.DataFrame.std(pd.DataFrame(Kf_LB_M0), axis = 1).to_numpy()\n",
        "  LB_std_positive_M0 = LB_mean_M0 + LB_std_M0\n",
        "  LB_std_negative_M0 = LB_mean_M0 - LB_std_M0\n",
        "\n",
        "  axis.plot(epoch_vec, (LB_mean_M0), '#5271ff', linestyle = \"-\", marker = \"o\",\n",
        "           label='Lipschitz Bound', lw = 3)\n",
        "  axis.fill_between(epoch_vec, (LB_std_positive_M0), \n",
        "                    (LB_std_negative_M0), \n",
        "                   alpha=0.2, color = '#5271ff',\n",
        "                  label = r'$\\sigma$ Lipschitz Bound')\n",
        "  axis.grid()\n",
        "  #axis.xlim([1, n_epochs])\n",
        "  #axis.ylim(top=1)\n",
        "\n",
        "for axis, skip in zip(ax[3],[4, 6, 8]): # DO\n",
        "  \n",
        "  Kf_LB_M0 = resultGeneralDO[skip][4] \n",
        "  \n",
        "  epoch_vec = range(1,n_epochs+1)\n",
        "  LB_mean_M0 = pd.DataFrame.mean(pd.DataFrame(Kf_LB_M0), axis = 1).to_numpy()\n",
        "  LB_std_M0 = pd.DataFrame.std(pd.DataFrame(Kf_LB_M0), axis = 1).to_numpy()\n",
        "  LB_std_positive_M0 = LB_mean_M0 + LB_std_M0\n",
        "  LB_std_negative_M0 = LB_mean_M0 - LB_std_M0\n",
        "\n",
        "  axis.plot(epoch_vec, (LB_mean_M0), '#5271ff', linestyle = \"-\", marker = \"o\",\n",
        "           label='Lipschitz Bound', lw = 3)\n",
        "  axis.fill_between(epoch_vec, LB_std_positive_M0, LB_std_negative_M0, \n",
        "                   alpha=0.2, color = '#5271ff',\n",
        "                  label = r'$\\sigma$ Lipschitz Bound')\n",
        "  axis.grid()\n",
        "  #axis.xlim([1, n_epochs])\n",
        "  #axis.ylim(top=1)\n",
        "\n",
        "for axis, col in zip(ax[0], ['Model 4', 'Model 6', 'Model 8']):\n",
        "    axis.set_title(col, fontsize=20)\n",
        "\n",
        "for axis in ax[3]:\n",
        "  axis.set_xlabel('Epoch', fontsize = 20)\n",
        "\n",
        "for axis in ax[:,0]:\n",
        "  axis.set_ylabel('Accuracy', fontsize = 20)\n",
        "\n",
        "for axis, row in zip(ax[:,2], ['LBA', 'L2', 'L1', 'Dropout']):\n",
        "    axis.set_ylabel(row, rotation=90, fontsize=20)\n",
        "    axis.yaxis.set_label_position(\"right\")\n",
        "    axis.yaxis.tick_right()\n",
        "    axis = plt.gca()\n",
        "    axis.yaxis.set_major_formatter(FormatStrFormatter('%.1f'))\n",
        "plt.tight_layout()\n",
        "plt.savefig('LBEA.pdf')"
      ]
    },
    {
      "cell_type": "code",
      "execution_count": null,
      "metadata": {
        "id": "In1IdLroYChw",
        "colab": {
          "base_uri": "https://localhost:8080/",
          "height": 257
        },
        "outputId": "34afddf7-6d39-4249-e53f-e4226c3b15c0"
      },
      "outputs": [
        {
          "output_type": "display_data",
          "data": {
            "text/plain": [
              "<Figure size 1080x360 with 3 Axes>"
            ],
            "image/png": "[encoded data removed]"
          },
          "metadata": {
            "needs_background": "light"
          }
        }
      ],
      "source": [
        "n_epochs = 60\n",
        "fig, ax = plt.subplots(nrows=1, ncols=3, \n",
        "                       sharex=True, \n",
        "                       figsize=(15, 5))\n",
        "\n",
        "for axis in ax:\n",
        "  axis.set_xticks(np.arange(0, n_epochs+1, step=10))\n",
        "  axis.set_ylabel(r'$\\log_{10} (LB)$',fontsize=20)\n",
        "  axis.set_xlabel('Epoch',fontsize=20)\n",
        "for axis, col in zip(ax, ['Model 4', 'Model 6', 'Model 8']):\n",
        "    axis.set_title(col, fontsize=20)\n",
        "\n",
        "for axis, skip in zip(ax,[4, 6, 8]): # LB\n",
        "  \n",
        "  Kf_LB_M0 = resultGeneral[skip][4] \n",
        "  \n",
        "  epoch_vec = range(1,n_epochs+1)\n",
        "  LB_mean_M0 = pd.DataFrame.mean(pd.DataFrame(Kf_LB_M0), axis = 1).to_numpy()\n",
        "  LB_std_M0 = pd.DataFrame.std(pd.DataFrame(Kf_LB_M0), axis = 1).to_numpy()\n",
        "  LB_std_positive_M0 = LB_mean_M0 + LB_std_M0\n",
        "  LB_std_negative_M0 = LB_mean_M0 - LB_std_M0\n",
        "\n",
        "  axis.plot(epoch_vec, np.log10(LB_mean_M0), '#ff5271', linestyle = \"-\",\n",
        "           label='Lipschitz Bound', lw = 2)\n",
        "  axis.fill_between(epoch_vec, np.log10(LB_std_positive_M0),\n",
        "                    np.log10(LB_std_negative_M0), \n",
        "                   alpha=0.2, color = '#ff5271',\n",
        "                  label = r'$\\sigma$ Lipschitz Bound')\n",
        "\n",
        "  Kf_LB_M0 = resultGeneralL2[skip][4] \n",
        "  \n",
        "  epoch_vec = range(1,n_epochs+1)\n",
        "  LB_mean_M0 = pd.DataFrame.mean(pd.DataFrame(Kf_LB_M0), axis = 1).to_numpy()\n",
        "  LB_std_M0 = pd.DataFrame.std(pd.DataFrame(Kf_LB_M0), axis = 1).to_numpy()\n",
        "  LB_std_positive_M0 = LB_mean_M0 + LB_std_M0\n",
        "  LB_std_negative_M0 = LB_mean_M0 - LB_std_M0\n",
        "\n",
        "  axis.plot(epoch_vec, np.log10(LB_mean_M0), 'g', linestyle = \"-\", \n",
        "           label='Lipschitz Bound', lw = 2)\n",
        "  axis.fill_between(epoch_vec, np.log10(LB_std_positive_M0),\n",
        "                    np.log10(LB_std_negative_M0), \n",
        "                   alpha=0.2, color='g',\n",
        "                  label = r'$\\sigma$ Lipschitz Bound')\n",
        "  \n",
        "  Kf_LB_M0 = resultGeneralL1[skip][4] \n",
        "  \n",
        "  epoch_vec = range(1,n_epochs+1)\n",
        "  LB_mean_M0 = pd.DataFrame.mean(pd.DataFrame(Kf_LB_M0), axis = 1).to_numpy()\n",
        "  LB_std_M0 = pd.DataFrame.std(pd.DataFrame(Kf_LB_M0), axis = 1).to_numpy()\n",
        "  LB_std_positive_M0 = LB_mean_M0 + LB_std_M0\n",
        "  LB_std_negative_M0 = LB_mean_M0 - LB_std_M0\n",
        "\n",
        "  axis.plot(epoch_vec, np.log10(LB_mean_M0), 'blue',linestyle = \"-\",\n",
        "           label='Lipschitz Bound', lw = 2)\n",
        "  axis.fill_between(epoch_vec, np.log10(LB_std_positive_M0),\n",
        "                    np.log10(LB_std_negative_M0), \n",
        "                   alpha=0.2, color =  'blue',\n",
        "                  label = r'$\\sigma$ Lipschitz Bound')\n",
        "\n",
        "  Kf_LB_M0 = resultGeneralDO[skip][4] \n",
        "  \n",
        "  epoch_vec = range(1,n_epochs+1)\n",
        "  LB_mean_M0 = pd.DataFrame.mean(pd.DataFrame(Kf_LB_M0), axis = 1).to_numpy()\n",
        "  LB_std_M0 = pd.DataFrame.std(pd.DataFrame(Kf_LB_M0), axis = 1).to_numpy()\n",
        "  LB_std_positive_M0 = LB_mean_M0 + LB_std_M0\n",
        "  LB_std_negative_M0 = LB_mean_M0 - LB_std_M0\n",
        "\n",
        "  axis.plot(epoch_vec, np.log10(LB_mean_M0), 'orange', linestyle = \"-\",\n",
        "           label='Lipschitz Bound', lw = 2)\n",
        "  axis.fill_between(epoch_vec, np.log10(LB_std_positive_M0),\n",
        "                    np.log10(LB_std_negative_M0), \n",
        "                   alpha=0.2, color = 'orange',\n",
        "                  label = r'$\\sigma$ Lipschitz Bound')\n",
        "\n",
        "  axis.grid()\n",
        "\n",
        "plt.tight_layout()\n",
        "plt.savefig('LB.pdf')"
      ]
    }
  ],
  "metadata": {
    "accelerator": "GPU",
    "colab": {
      "provenance": [],
      "toc_visible": true,
      "mount_file_id": "1fZY3ds3ifh_ONVs3sZjvE6F_N0IrJjdq",
      "authorship_tag": "ABX9TyMgS0vJgKqehCBnLV+d9pia"
    },
    "gpuClass": "standard",
    "kernelspec": {
      "display_name": "Python 3",
      "name": "python3"
    },
    "language_info": {
      "name": "python"
    }
  },
  "nbformat": 4,
  "nbformat_minor": 0
}